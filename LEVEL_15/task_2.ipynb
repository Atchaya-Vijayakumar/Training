{
 "cells": [
  {
   "cell_type": "code",
   "execution_count": 1,
   "id": "14bd0d58-36c9-4c49-8e6a-282ae96c4512",
   "metadata": {},
   "outputs": [],
   "source": [
    "import pandas as pd\n",
    "import numpy as np\n",
    "import matplotlib.pyplot as plt\n",
    "from sklearn.model_selection import train_test_split\n",
    "from sklearn.preprocessing import StandardScaler\n",
    "from sklearn.linear_model import LogisticRegression\n",
    "from sklearn.neighbors import KNeighborsClassifier\n",
    "from sklearn.metrics import classification_report, confusion_matrix, roc_curve, auc, ConfusionMatrixDisplay"
   ]
  },
  {
   "cell_type": "code",
   "execution_count": 2,
   "id": "c3873deb-623e-43c4-bd82-3422636b8886",
   "metadata": {},
   "outputs": [
    {
     "name": "stdout",
     "output_type": "stream",
     "text": [
      "   CustomerID  Count        Country       State         City  Zip Code  \\\n",
      "0  3668-QPYBK      1  United States  California  Los Angeles     90003   \n",
      "1  9237-HQITU      1  United States  California  Los Angeles     90005   \n",
      "2  9305-CDSKC      1  United States  California  Los Angeles     90006   \n",
      "3  7892-POOKP      1  United States  California  Los Angeles     90010   \n",
      "4  0280-XJGEX      1  United States  California  Los Angeles     90015   \n",
      "\n",
      "                 Lat Long   Latitude   Longitude  Gender  ...        Contract  \\\n",
      "0  33.964131, -118.272783  33.964131 -118.272783    Male  ...  Month-to-month   \n",
      "1   34.059281, -118.30742  34.059281 -118.307420  Female  ...  Month-to-month   \n",
      "2  34.048013, -118.293953  34.048013 -118.293953  Female  ...  Month-to-month   \n",
      "3  34.062125, -118.315709  34.062125 -118.315709  Female  ...  Month-to-month   \n",
      "4  34.039224, -118.266293  34.039224 -118.266293    Male  ...  Month-to-month   \n",
      "\n",
      "  Paperless Billing             Payment Method  Monthly Charges Total Charges  \\\n",
      "0               Yes               Mailed check            53.85        108.15   \n",
      "1               Yes           Electronic check            70.70        151.65   \n",
      "2               Yes           Electronic check            99.65         820.5   \n",
      "3               Yes           Electronic check           104.80       3046.05   \n",
      "4               Yes  Bank transfer (automatic)           103.70        5036.3   \n",
      "\n",
      "  Churn Label Churn Value Churn Score  CLTV                   Churn Reason  \n",
      "0         Yes           1          86  3239   Competitor made better offer  \n",
      "1         Yes           1          67  2701                          Moved  \n",
      "2         Yes           1          86  5372                          Moved  \n",
      "3         Yes           1          84  5003                          Moved  \n",
      "4         Yes           1          89  5340  Competitor had better devices  \n",
      "\n",
      "[5 rows x 33 columns]\n"
     ]
    }
   ],
   "source": [
    "df = pd.read_excel(r\"C:\\Users\\vatch\\Downloads\\archive (16)\\Telco_customer_churn.xlsx\")\n",
    "print(df.head())"
   ]
  },
  {
   "cell_type": "code",
   "execution_count": 3,
   "id": "8611dd4a-d38e-4866-8879-b5189513b492",
   "metadata": {},
   "outputs": [],
   "source": [
    "drop_cols = ['CustomerID', 'Count', 'Country', 'State', 'City', 'Zip Code', 'Lat Long',\n",
    "             'Latitude', 'Longitude', 'Churn Label', 'Churn Score', 'CLTV', 'Churn Reason']\n",
    "df.drop(columns=drop_cols, inplace=True)"
   ]
  },
  {
   "cell_type": "code",
   "execution_count": 4,
   "id": "1813d165-f410-48ed-b3ce-9e8b6d278d9d",
   "metadata": {},
   "outputs": [],
   "source": [
    "df.dropna(inplace=True)"
   ]
  },
  {
   "cell_type": "code",
   "execution_count": 5,
   "id": "72f77de6-4087-4a19-a67c-261de56ee8b2",
   "metadata": {},
   "outputs": [
    {
     "name": "stdout",
     "output_type": "stream",
     "text": [
      "      Gender Senior Citizen Partner Dependents  Tenure Months Phone Service  \\\n",
      "0       Male             No      No         No              2           Yes   \n",
      "1     Female             No      No        Yes              2           Yes   \n",
      "2     Female             No      No        Yes              8           Yes   \n",
      "3     Female             No     Yes        Yes             28           Yes   \n",
      "4       Male             No      No        Yes             49           Yes   \n",
      "...      ...            ...     ...        ...            ...           ...   \n",
      "7038  Female             No      No         No             72           Yes   \n",
      "7039    Male             No     Yes        Yes             24           Yes   \n",
      "7040  Female             No     Yes        Yes             72           Yes   \n",
      "7041  Female             No     Yes        Yes             11            No   \n",
      "7042    Male             No      No         No             66           Yes   \n",
      "\n",
      "        Multiple Lines Internet Service      Online Security  \\\n",
      "0                   No              DSL                  Yes   \n",
      "1                   No      Fiber optic                   No   \n",
      "2                  Yes      Fiber optic                   No   \n",
      "3                  Yes      Fiber optic                   No   \n",
      "4                  Yes      Fiber optic                   No   \n",
      "...                ...              ...                  ...   \n",
      "7038                No               No  No internet service   \n",
      "7039               Yes              DSL                  Yes   \n",
      "7040               Yes      Fiber optic                   No   \n",
      "7041  No phone service              DSL                  Yes   \n",
      "7042                No      Fiber optic                  Yes   \n",
      "\n",
      "            Online Backup    Device Protection         Tech Support  \\\n",
      "0                     Yes                   No                   No   \n",
      "1                      No                   No                   No   \n",
      "2                      No                  Yes                   No   \n",
      "3                      No                  Yes                  Yes   \n",
      "4                     Yes                  Yes                   No   \n",
      "...                   ...                  ...                  ...   \n",
      "7038  No internet service  No internet service  No internet service   \n",
      "7039                   No                  Yes                  Yes   \n",
      "7040                  Yes                  Yes                   No   \n",
      "7041                   No                   No                   No   \n",
      "7042                   No                  Yes                  Yes   \n",
      "\n",
      "             Streaming TV     Streaming Movies        Contract  \\\n",
      "0                      No                   No  Month-to-month   \n",
      "1                      No                   No  Month-to-month   \n",
      "2                     Yes                  Yes  Month-to-month   \n",
      "3                     Yes                  Yes  Month-to-month   \n",
      "4                     Yes                  Yes  Month-to-month   \n",
      "...                   ...                  ...             ...   \n",
      "7038  No internet service  No internet service        Two year   \n",
      "7039                  Yes                  Yes        One year   \n",
      "7040                  Yes                  Yes        One year   \n",
      "7041                   No                   No  Month-to-month   \n",
      "7042                  Yes                  Yes        Two year   \n",
      "\n",
      "     Paperless Billing             Payment Method  Monthly Charges  \\\n",
      "0                  Yes               Mailed check            53.85   \n",
      "1                  Yes           Electronic check            70.70   \n",
      "2                  Yes           Electronic check            99.65   \n",
      "3                  Yes           Electronic check           104.80   \n",
      "4                  Yes  Bank transfer (automatic)           103.70   \n",
      "...                ...                        ...              ...   \n",
      "7038               Yes  Bank transfer (automatic)            21.15   \n",
      "7039               Yes               Mailed check            84.80   \n",
      "7040               Yes    Credit card (automatic)           103.20   \n",
      "7041               Yes           Electronic check            29.60   \n",
      "7042               Yes  Bank transfer (automatic)           105.65   \n",
      "\n",
      "     Total Charges  \n",
      "0           108.15  \n",
      "1           151.65  \n",
      "2            820.5  \n",
      "3          3046.05  \n",
      "4           5036.3  \n",
      "...            ...  \n",
      "7038        1419.4  \n",
      "7039        1990.5  \n",
      "7040        7362.9  \n",
      "7041        346.45  \n",
      "7042        6844.5  \n",
      "\n",
      "[7043 rows x 19 columns]\n",
      "0       1\n",
      "1       1\n",
      "2       1\n",
      "3       1\n",
      "4       1\n",
      "       ..\n",
      "7038    0\n",
      "7039    0\n",
      "7040    0\n",
      "7041    0\n",
      "7042    0\n",
      "Name: Churn Value, Length: 7043, dtype: int64\n"
     ]
    }
   ],
   "source": [
    "y = df['Churn Value']\n",
    "X = df.drop(columns=['Churn Value'])\n",
    "print(X)\n",
    "print(y)"
   ]
  },
  {
   "cell_type": "code",
   "execution_count": 6,
   "id": "53f800ea-f3bf-4459-91d4-7bc4d212304f",
   "metadata": {},
   "outputs": [
    {
     "name": "stdout",
     "output_type": "stream",
     "text": [
      "      Tenure Months  Monthly Charges  Gender_Male  Senior Citizen_Yes  \\\n",
      "0                 2            53.85         True               False   \n",
      "1                 2            70.70        False               False   \n",
      "2                 8            99.65        False               False   \n",
      "3                28           104.80        False               False   \n",
      "4                49           103.70         True               False   \n",
      "...             ...              ...          ...                 ...   \n",
      "7038             72            21.15        False               False   \n",
      "7039             24            84.80         True               False   \n",
      "7040             72           103.20        False               False   \n",
      "7041             11            29.60        False               False   \n",
      "7042             66           105.65         True               False   \n",
      "\n",
      "      Partner_Yes  Dependents_Yes  Phone Service_Yes  \\\n",
      "0           False           False               True   \n",
      "1           False            True               True   \n",
      "2           False            True               True   \n",
      "3            True            True               True   \n",
      "4           False            True               True   \n",
      "...           ...             ...                ...   \n",
      "7038        False           False               True   \n",
      "7039         True            True               True   \n",
      "7040         True            True               True   \n",
      "7041         True            True              False   \n",
      "7042        False           False               True   \n",
      "\n",
      "      Multiple Lines_No phone service  Multiple Lines_Yes  \\\n",
      "0                               False               False   \n",
      "1                               False               False   \n",
      "2                               False                True   \n",
      "3                               False                True   \n",
      "4                               False                True   \n",
      "...                               ...                 ...   \n",
      "7038                            False               False   \n",
      "7039                            False                True   \n",
      "7040                            False                True   \n",
      "7041                             True               False   \n",
      "7042                            False               False   \n",
      "\n",
      "      Internet Service_Fiber optic  ...  Total Charges_8496.7  \\\n",
      "0                            False  ...                 False   \n",
      "1                             True  ...                 False   \n",
      "2                             True  ...                 False   \n",
      "3                             True  ...                 False   \n",
      "4                             True  ...                 False   \n",
      "...                            ...  ...                   ...   \n",
      "7038                         False  ...                 False   \n",
      "7039                         False  ...                 False   \n",
      "7040                          True  ...                 False   \n",
      "7041                         False  ...                 False   \n",
      "7042                          True  ...                 False   \n",
      "\n",
      "      Total Charges_8529.5  Total Charges_8543.25  Total Charges_8547.15  \\\n",
      "0                    False                  False                  False   \n",
      "1                    False                  False                  False   \n",
      "2                    False                  False                  False   \n",
      "3                    False                  False                  False   \n",
      "4                    False                  False                  False   \n",
      "...                    ...                    ...                    ...   \n",
      "7038                 False                  False                  False   \n",
      "7039                 False                  False                  False   \n",
      "7040                 False                  False                  False   \n",
      "7041                 False                  False                  False   \n",
      "7042                 False                  False                  False   \n",
      "\n",
      "      Total Charges_8564.75  Total Charges_8594.4  Total Charges_8670.1  \\\n",
      "0                     False                 False                 False   \n",
      "1                     False                 False                 False   \n",
      "2                     False                 False                 False   \n",
      "3                     False                 False                 False   \n",
      "4                     False                 False                 False   \n",
      "...                     ...                   ...                   ...   \n",
      "7038                  False                 False                 False   \n",
      "7039                  False                 False                 False   \n",
      "7040                  False                 False                 False   \n",
      "7041                  False                 False                 False   \n",
      "7042                  False                 False                 False   \n",
      "\n",
      "      Total Charges_8672.45  Total Charges_8684.8  Total Charges_   \n",
      "0                     False                 False            False  \n",
      "1                     False                 False            False  \n",
      "2                     False                 False            False  \n",
      "3                     False                 False            False  \n",
      "4                     False                 False            False  \n",
      "...                     ...                   ...              ...  \n",
      "7038                  False                 False            False  \n",
      "7039                  False                 False            False  \n",
      "7040                  False                 False            False  \n",
      "7041                  False                 False            False  \n",
      "7042                  False                 False            False  \n",
      "\n",
      "[7043 rows x 6559 columns]\n"
     ]
    }
   ],
   "source": [
    "X = pd.get_dummies(X, drop_first=True)\n",
    "print(X)"
   ]
  },
  {
   "cell_type": "code",
   "execution_count": 7,
   "id": "b5b9abd9-08af-4b22-83cb-d4652ef2de0e",
   "metadata": {},
   "outputs": [],
   "source": [
    "scaler = StandardScaler()\n",
    "X_scaled = scaler.fit_transform(X)"
   ]
  },
  {
   "cell_type": "code",
   "execution_count": 8,
   "id": "193fcdb5-31fd-4663-a07a-75ff54b25e6e",
   "metadata": {},
   "outputs": [
    {
     "name": "stdout",
     "output_type": "stream",
     "text": [
      "[[-1.23672422 -0.36266036  0.99053183 ... -0.01191659 -0.01191659\n",
      "  -0.03955095]\n",
      " [-1.23672422  0.19736523 -1.00955867 ... -0.01191659 -0.01191659\n",
      "  -0.03955095]\n",
      " [-0.99240204  1.1595457  -1.00955867 ... -0.01191659 -0.01191659\n",
      "  -0.03955095]\n",
      " ...\n",
      " [ 1.61370124  1.27753328 -1.00955867 ... -0.01191659 -0.01191659\n",
      "  -0.03955095]\n",
      " [-0.87024095 -1.1686319  -1.00955867 ... -0.01191659 -0.01191659\n",
      "  -0.03955095]\n",
      " [ 1.36937906  1.35896134  0.99053183 ... -0.01191659 -0.01191659\n",
      "  -0.03955095]]\n"
     ]
    }
   ],
   "source": [
    "print(X_scaled)"
   ]
  },
  {
   "cell_type": "code",
   "execution_count": 9,
   "id": "3952a740-7a56-4da0-9cad-96a3e35acaaf",
   "metadata": {},
   "outputs": [
    {
     "name": "stdout",
     "output_type": "stream",
     "text": [
      "[[ 1.57298088  1.12630976  0.99053183 ... -0.01191659 -0.01191659\n",
      "  -0.03955095]\n",
      " [-0.66663913  0.94517388 -1.00955867 ... -0.01191659 -0.01191659\n",
      "  -0.03955095]\n",
      " [-0.01511331  1.30578383 -1.00955867 ... -0.01191659 -0.01191659\n",
      "  -0.03955095]\n",
      " ...\n",
      " [-0.54447804 -1.48104974  0.99053183 ... -0.01191659 -0.01191659\n",
      "  -0.03955095]\n",
      " [ 0.10704778 -1.49102052  0.99053183 ... -0.01191659 -0.01191659\n",
      "  -0.03955095]\n",
      " [-0.05583367  1.28584227  0.99053183 ... -0.01191659 -0.01191659\n",
      "  -0.03955095]] [[-0.70735949  0.70255152 -1.00955867 ... -0.01191659 -0.01191659\n",
      "  -0.03955095]\n",
      " [-0.5851984  -0.26461433  0.99053183 ... -0.01191659 -0.01191659\n",
      "  -0.03955095]\n",
      " [-1.23672422 -1.48769693 -1.00955867 ... -0.01191659 -0.01191659\n",
      "  -0.03955095]\n",
      " ...\n",
      " [-1.23672422  0.85045145 -1.00955867 ... -0.01191659 -0.01191659\n",
      "  -0.03955095]\n",
      " [ 1.45081979  1.51018486  0.99053183 ... -0.01191659 -0.01191659\n",
      "  -0.03955095]\n",
      " [-0.09655404  1.16120749 -1.00955867 ... -0.01191659 -0.01191659\n",
      "  -0.03955095]] 2142    0\n",
      "1623    1\n",
      "6074    0\n",
      "1362    1\n",
      "6754    0\n",
      "       ..\n",
      "3772    0\n",
      "5191    0\n",
      "5226    0\n",
      "5390    0\n",
      "860     1\n",
      "Name: Churn Value, Length: 5634, dtype: int64 185     1\n",
      "2715    0\n",
      "3825    0\n",
      "1807    1\n",
      "132     1\n",
      "       ..\n",
      "6366    0\n",
      "315     1\n",
      "2439    0\n",
      "5002    0\n",
      "1161    1\n",
      "Name: Churn Value, Length: 1409, dtype: int64\n"
     ]
    }
   ],
   "source": [
    "X_train, X_test, y_train, y_test = train_test_split(X_scaled, y, test_size=0.2, random_state=42)\n",
    "print(X_train, X_test, y_train, y_test)"
   ]
  },
  {
   "cell_type": "code",
   "execution_count": 10,
   "id": "f0cab553-7793-46e0-948f-488ea6f45220",
   "metadata": {},
   "outputs": [],
   "source": [
    "log_model = LogisticRegression(max_iter=1000)\n",
    "log_model.fit(X_train, y_train)\n",
    "log_preds = log_model.predict(X_test)"
   ]
  },
  {
   "cell_type": "code",
   "execution_count": 12,
   "id": "3ae86b45-e7fb-4296-8f7c-e1715e88b894",
   "metadata": {},
   "outputs": [
    {
     "name": "stdout",
     "output_type": "stream",
     "text": [
      "log_model: LogisticRegression(max_iter=1000)\n",
      "log_preds: [1 0 0 ... 0 0 1]\n"
     ]
    }
   ],
   "source": [
    "print(\"log_model:\",log_model)\n",
    "print(\"log_preds:\",log_preds)"
   ]
  },
  {
   "cell_type": "code",
   "execution_count": 13,
   "id": "fd7e331b-3b43-4a22-bd84-b6a9983ab9e8",
   "metadata": {},
   "outputs": [],
   "source": [
    "knn_model = KNeighborsClassifier(n_neighbors=5)\n",
    "knn_model.fit(X_train, y_train)\n",
    "knn_preds = knn_model.predict(X_test)"
   ]
  },
  {
   "cell_type": "code",
   "execution_count": 17,
   "id": "93a1403c-db69-4530-b874-2f4d526d8faa",
   "metadata": {},
   "outputs": [
    {
     "name": "stdout",
     "output_type": "stream",
     "text": [
      "🔹 Logistic Regression Report:\n",
      "               precision    recall  f1-score   support\n",
      "\n",
      "           0       0.84      0.85      0.85      1009\n",
      "           1       0.61      0.61      0.61       400\n",
      "\n",
      "    accuracy                           0.78      1409\n",
      "   macro avg       0.73      0.73      0.73      1409\n",
      "weighted avg       0.78      0.78      0.78      1409\n",
      "\n",
      "🔹 KNN Report:\n",
      "               precision    recall  f1-score   support\n",
      "\n",
      "           0       0.71      0.96      0.82      1009\n",
      "           1       0.24      0.03      0.05       400\n",
      "\n",
      "    accuracy                           0.70      1409\n",
      "   macro avg       0.48      0.50      0.44      1409\n",
      "weighted avg       0.58      0.70      0.60      1409\n",
      "\n"
     ]
    }
   ],
   "source": [
    "print(\"🔹 Logistic Regression Report:\\n\", classification_report(y_test, log_preds))\n",
    "print(\"🔹 KNN Report:\\n\", classification_report(y_test, knn_preds))\n"
   ]
  },
  {
   "cell_type": "code",
   "execution_count": 19,
   "id": "878c2b62-bfa0-4748-b5e4-6aac51c84adc",
   "metadata": {},
   "outputs": [
    {
     "data": {
      "image/png": "[encoded data removed]",
      "text/plain": [
       "<Figure size 1200x500 with 4 Axes>"
      ]
     },
     "metadata": {},
     "output_type": "display_data"
    }
   ],
   "source": [
    "fig, ax = plt.subplots(1, 2, figsize=(12, 5))\n",
    "ConfusionMatrixDisplay.from_estimator(log_model, X_test, y_test, ax=ax[0], cmap='Blues')\n",
    "ax[0].set_title(\"Logistic Regression\")\n",
    "\n",
    "ConfusionMatrixDisplay.from_estimator(knn_model, X_test, y_test, ax=ax[1], cmap='Greens')\n",
    "ax[1].set_title(\"K-Nearest Neighbors\")\n",
    "\n",
    "plt.tight_layout()\n",
    "plt.show()"
   ]
  },
  {
   "cell_type": "code",
   "execution_count": 20,
   "id": "c098cfbe-258d-48c4-be2e-6bbe98526448",
   "metadata": {},
   "outputs": [],
   "source": [
    "log_probs = log_model.predict_proba(X_test)[:, 1]\n",
    "knn_probs = knn_model.predict_proba(X_test)[:, 1]\n",
    "\n",
    "fpr_log, tpr_log, _ = roc_curve(y_test, log_probs)\n",
    "fpr_knn, tpr_knn, _ = roc_curve(y_test, knn_probs)"
   ]
  },
  {
   "cell_type": "code",
   "execution_count": 25,
   "id": "2fb5ca2f-cbc6-48f5-909d-ebe34fdfa3fa",
   "metadata": {},
   "outputs": [
    {
     "name": "stdout",
     "output_type": "stream",
     "text": [
      "log_probs: [0.87751051 0.00280057 0.00872312 ... 0.31017029 0.05682983 0.93038564]\n",
      "knn_probs: [0.2 0.  0.8 ... 0.  0.  0. ]\n",
      "fpr_log, tpr_log, _ : [0.00000000e+00 0.00000000e+00 9.91080278e-04 9.91080278e-04\n",
      " 1.98216056e-03 1.98216056e-03 2.97324083e-03 2.97324083e-03\n",
      " 4.95540139e-03 4.95540139e-03 5.94648167e-03 5.94648167e-03\n",
      " 9.91080278e-03 9.91080278e-03 1.09018831e-02 1.09018831e-02\n",
      " 1.18929633e-02 1.18929633e-02 1.38751239e-02 1.38751239e-02\n",
      " 1.48662042e-02 1.48662042e-02 1.58572844e-02 1.58572844e-02\n",
      " 1.68483647e-02 1.68483647e-02 1.88305253e-02 1.88305253e-02\n",
      " 2.08126858e-02 2.08126858e-02 2.18037661e-02 2.18037661e-02\n",
      " 2.27948464e-02 2.27948464e-02 2.37859267e-02 2.37859267e-02\n",
      " 2.47770069e-02 2.47770069e-02 2.57680872e-02 2.57680872e-02\n",
      " 2.67591675e-02 2.67591675e-02 2.77502478e-02 2.77502478e-02\n",
      " 2.97324083e-02 2.97324083e-02 3.17145689e-02 3.17145689e-02\n",
      " 3.27056492e-02 3.27056492e-02 3.36967294e-02 3.36967294e-02\n",
      " 3.46878097e-02 3.46878097e-02 3.96432111e-02 3.96432111e-02\n",
      " 4.06342914e-02 4.06342914e-02 4.16253717e-02 4.16253717e-02\n",
      " 4.26164519e-02 4.26164519e-02 4.36075322e-02 4.36075322e-02\n",
      " 4.55896928e-02 4.55896928e-02 4.75718533e-02 4.75718533e-02\n",
      " 4.95540139e-02 4.95540139e-02 5.05450942e-02 5.05450942e-02\n",
      " 5.25272547e-02 5.25272547e-02 5.45094153e-02 5.45094153e-02\n",
      " 5.74826561e-02 5.74826561e-02 5.84737364e-02 5.84737364e-02\n",
      " 5.94648167e-02 5.94648167e-02 6.04558969e-02 6.04558969e-02\n",
      " 6.24380575e-02 6.24380575e-02 6.34291378e-02 6.34291378e-02\n",
      " 6.83845391e-02 6.83845391e-02 7.13577800e-02 7.13577800e-02\n",
      " 7.43310208e-02 7.43310208e-02 7.73042616e-02 7.73042616e-02\n",
      " 7.92864222e-02 7.92864222e-02 8.02775025e-02 8.02775025e-02\n",
      " 8.12685828e-02 8.12685828e-02 8.62239841e-02 8.62239841e-02\n",
      " 8.72150644e-02 8.72150644e-02 9.01883053e-02 9.01883053e-02\n",
      " 9.11793855e-02 9.11793855e-02 9.31615461e-02 9.31615461e-02\n",
      " 9.41526264e-02 9.41526264e-02 9.61347869e-02 9.61347869e-02\n",
      " 9.71258672e-02 9.71258672e-02 9.81169475e-02 9.81169475e-02\n",
      " 1.00099108e-01 1.00099108e-01 1.01090188e-01 1.01090188e-01\n",
      " 1.03072349e-01 1.03072349e-01 1.05054509e-01 1.05054509e-01\n",
      " 1.08027750e-01 1.08027750e-01 1.09018831e-01 1.09018831e-01\n",
      " 1.10009911e-01 1.10009911e-01 1.11000991e-01 1.11000991e-01\n",
      " 1.12983152e-01 1.12983152e-01 1.14965312e-01 1.14965312e-01\n",
      " 1.18929633e-01 1.18929633e-01 1.19920714e-01 1.19920714e-01\n",
      " 1.20911794e-01 1.20911794e-01 1.22893954e-01 1.22893954e-01\n",
      " 1.25867195e-01 1.25867195e-01 1.28840436e-01 1.28840436e-01\n",
      " 1.30822597e-01 1.30822597e-01 1.33795837e-01 1.33795837e-01\n",
      " 1.35777998e-01 1.35777998e-01 1.42715560e-01 1.42715560e-01\n",
      " 1.43706640e-01 1.43706640e-01 1.44697721e-01 1.44697721e-01\n",
      " 1.46679881e-01 1.46679881e-01 1.47670961e-01 1.48662042e-01\n",
      " 1.48662042e-01 1.52626363e-01 1.52626363e-01 1.53617443e-01\n",
      " 1.53617443e-01 1.59563925e-01 1.59563925e-01 1.61546085e-01\n",
      " 1.61546085e-01 1.62537166e-01 1.62537166e-01 1.63528246e-01\n",
      " 1.63528246e-01 1.69474727e-01 1.69474727e-01 1.70465808e-01\n",
      " 1.70465808e-01 1.71456888e-01 1.71456888e-01 1.72447968e-01\n",
      " 1.72447968e-01 1.73439049e-01 1.73439049e-01 1.78394450e-01\n",
      " 1.78394450e-01 1.79385530e-01 1.79385530e-01 1.81367691e-01\n",
      " 1.81367691e-01 1.82358771e-01 1.82358771e-01 1.83349851e-01\n",
      " 1.83349851e-01 1.85332012e-01 1.85332012e-01 1.87314172e-01\n",
      " 1.87314172e-01 1.88305253e-01 1.88305253e-01 1.92269574e-01\n",
      " 1.92269574e-01 1.98216056e-01 1.98216056e-01 2.01189296e-01\n",
      " 2.01189296e-01 2.03171457e-01 2.03171457e-01 2.06144698e-01\n",
      " 2.06144698e-01 2.11100099e-01 2.11100099e-01 2.12091179e-01\n",
      " 2.12091179e-01 2.16055500e-01 2.16055500e-01 2.17046581e-01\n",
      " 2.17046581e-01 2.20019822e-01 2.20019822e-01 2.23984143e-01\n",
      " 2.23984143e-01 2.26957384e-01 2.26957384e-01 2.28939544e-01\n",
      " 2.28939544e-01 2.29930624e-01 2.29930624e-01 2.37859267e-01\n",
      " 2.37859267e-01 2.38850347e-01 2.38850347e-01 2.44796829e-01\n",
      " 2.44796829e-01 2.45787909e-01 2.45787909e-01 2.47770069e-01\n",
      " 2.47770069e-01 2.49752230e-01 2.49752230e-01 2.54707631e-01\n",
      " 2.54707631e-01 2.55698712e-01 2.55698712e-01 2.62636274e-01\n",
      " 2.62636274e-01 2.63627354e-01 2.63627354e-01 2.65609514e-01\n",
      " 2.65609514e-01 2.67591675e-01 2.67591675e-01 2.71555996e-01\n",
      " 2.71555996e-01 2.74529237e-01 2.74529237e-01 2.75520317e-01\n",
      " 2.75520317e-01 2.77502478e-01 2.77502478e-01 2.79484638e-01\n",
      " 2.79484638e-01 2.92368682e-01 2.92368682e-01 2.94350842e-01\n",
      " 2.94350842e-01 2.95341923e-01 2.95341923e-01 2.98315164e-01\n",
      " 2.98315164e-01 3.01288404e-01 3.01288404e-01 3.07234886e-01\n",
      " 3.07234886e-01 3.16154609e-01 3.16154609e-01 3.22101090e-01\n",
      " 3.22101090e-01 3.31020813e-01 3.31020813e-01 3.36967294e-01\n",
      " 3.36967294e-01 3.37958375e-01 3.37958375e-01 3.38949455e-01\n",
      " 3.38949455e-01 3.40931615e-01 3.40931615e-01 3.44895937e-01\n",
      " 3.44895937e-01 3.48860258e-01 3.48860258e-01 3.57779980e-01\n",
      " 3.57779980e-01 3.67690783e-01 3.67690783e-01 3.74628345e-01\n",
      " 3.74628345e-01 3.84539148e-01 3.84539148e-01 3.92467790e-01\n",
      " 3.92467790e-01 3.95441031e-01 3.95441031e-01 4.02378593e-01\n",
      " 4.02378593e-01 4.05351833e-01 4.05351833e-01 4.17244797e-01\n",
      " 4.17244797e-01 4.18235877e-01 4.18235877e-01 4.24182359e-01\n",
      " 4.24182359e-01 4.30128840e-01 4.30128840e-01 4.31119921e-01\n",
      " 4.31119921e-01 4.32111001e-01 4.32111001e-01 4.34093162e-01\n",
      " 4.34093162e-01 4.39048563e-01 4.39048563e-01 4.42021804e-01\n",
      " 4.42021804e-01 4.43012884e-01 4.43012884e-01 4.47968285e-01\n",
      " 4.47968285e-01 4.61843409e-01 4.61843409e-01 4.62834490e-01\n",
      " 4.62834490e-01 4.74727453e-01 4.74727453e-01 4.77700694e-01\n",
      " 4.77700694e-01 4.79682854e-01 4.79682854e-01 5.00495540e-01\n",
      " 5.00495540e-01 5.03468781e-01 5.03468781e-01 5.04459861e-01\n",
      " 5.04459861e-01 5.05450942e-01 5.05450942e-01 5.10406343e-01\n",
      " 5.10406343e-01 5.16352825e-01 5.16352825e-01 5.19326065e-01\n",
      " 5.19326065e-01 5.29236868e-01 5.29236868e-01 5.55996036e-01\n",
      " 5.55996036e-01 5.71853320e-01 5.71853320e-01 5.98612488e-01\n",
      " 5.98612488e-01 5.99603568e-01 5.99603568e-01 6.00594648e-01\n",
      " 6.00594648e-01 6.05550050e-01 6.05550050e-01 6.07532210e-01\n",
      " 6.07532210e-01 6.10505451e-01 6.10505451e-01 6.12487611e-01\n",
      " 6.12487611e-01 6.19425173e-01 6.19425173e-01 6.55104063e-01\n",
      " 6.55104063e-01 6.71952428e-01 6.71952428e-01 6.94747275e-01\n",
      " 6.94747275e-01 6.95738355e-01 6.95738355e-01 7.23488603e-01\n",
      " 7.23488603e-01 7.28444004e-01 7.28444004e-01 7.41328048e-01\n",
      " 7.41328048e-01 7.43310208e-01 7.43310208e-01 7.52229931e-01\n",
      " 7.52229931e-01 7.68087215e-01 7.68087215e-01 7.72051536e-01\n",
      " 7.72051536e-01 7.81962339e-01 7.81962339e-01 8.01783944e-01\n",
      " 8.01783944e-01 8.04757185e-01 8.04757185e-01 8.19623389e-01\n",
      " 8.19623389e-01 8.33498513e-01 8.33498513e-01 8.45391477e-01\n",
      " 8.45391477e-01 8.56293360e-01 8.56293360e-01 8.85034688e-01\n",
      " 8.85034688e-01 9.57383548e-01 9.59365709e-01 1.00000000e+00] [0.     0.0025 0.0025 0.0075 0.0075 0.04   0.04   0.05   0.05   0.0725\n",
      " 0.0725 0.075  0.075  0.0775 0.0775 0.1025 0.1025 0.115  0.115  0.1375\n",
      " 0.1375 0.1475 0.1475 0.1575 0.1575 0.1625 0.1625 0.17   0.17   0.1725\n",
      " 0.1725 0.1875 0.1875 0.1925 0.1925 0.195  0.195  0.215  0.215  0.22\n",
      " 0.22   0.2275 0.2275 0.2325 0.2325 0.235  0.235  0.2425 0.2425 0.255\n",
      " 0.255  0.2575 0.2575 0.26   0.26   0.265  0.265  0.2675 0.2675 0.27\n",
      " 0.27   0.29   0.29   0.295  0.295  0.3025 0.3025 0.305  0.305  0.3125\n",
      " 0.3125 0.3175 0.3175 0.32   0.32   0.3225 0.3225 0.3275 0.3275 0.33\n",
      " 0.33   0.3575 0.3575 0.36   0.36   0.365  0.365  0.3725 0.3725 0.3775\n",
      " 0.3775 0.3925 0.3925 0.4    0.4    0.4025 0.4025 0.4075 0.4075 0.415\n",
      " 0.415  0.42   0.42   0.4275 0.4275 0.4325 0.4325 0.4425 0.4425 0.445\n",
      " 0.445  0.455  0.455  0.4625 0.4625 0.4675 0.4675 0.47   0.47   0.475\n",
      " 0.475  0.4775 0.4775 0.48   0.48   0.4825 0.4825 0.49   0.49   0.495\n",
      " 0.495  0.5025 0.5025 0.505  0.505  0.5075 0.5075 0.51   0.51   0.515\n",
      " 0.515  0.52   0.52   0.5225 0.5225 0.5325 0.5325 0.5475 0.5475 0.55\n",
      " 0.55   0.555  0.555  0.56   0.56   0.5725 0.5725 0.575  0.575  0.58\n",
      " 0.58   0.5825 0.5825 0.595  0.595  0.5975 0.5975 0.6    0.6075 0.6075\n",
      " 0.6125 0.6125 0.615  0.615  0.6175 0.6175 0.625  0.625  0.6275 0.6275\n",
      " 0.63   0.63   0.6325 0.6325 0.6375 0.6375 0.645  0.645  0.6475 0.6475\n",
      " 0.65   0.65   0.6525 0.6525 0.6575 0.6575 0.66   0.66   0.665  0.665\n",
      " 0.6725 0.6725 0.675  0.675  0.6775 0.6775 0.6825 0.6825 0.685  0.685\n",
      " 0.6875 0.6875 0.6925 0.6925 0.6975 0.6975 0.7    0.7    0.705  0.705\n",
      " 0.7075 0.7075 0.71   0.71   0.7125 0.7125 0.7225 0.7225 0.725  0.725\n",
      " 0.7275 0.7275 0.73   0.73   0.7325 0.7325 0.735  0.735  0.7375 0.7375\n",
      " 0.74   0.74   0.745  0.745  0.7475 0.7475 0.755  0.755  0.7575 0.7575\n",
      " 0.76   0.76   0.7625 0.7625 0.77   0.77   0.7725 0.7725 0.775  0.775\n",
      " 0.7775 0.7775 0.78   0.78   0.7825 0.7825 0.785  0.785  0.7875 0.7875\n",
      " 0.79   0.79   0.7925 0.7925 0.795  0.795  0.7975 0.7975 0.8    0.8\n",
      " 0.8025 0.8025 0.805  0.805  0.8075 0.8075 0.81   0.81   0.8125 0.8125\n",
      " 0.815  0.815  0.8175 0.8175 0.82   0.82   0.825  0.825  0.8275 0.8275\n",
      " 0.83   0.83   0.8325 0.8325 0.835  0.835  0.8375 0.8375 0.84   0.84\n",
      " 0.8425 0.8425 0.845  0.845  0.8475 0.8475 0.85   0.85   0.8525 0.8525\n",
      " 0.855  0.855  0.8575 0.8575 0.8625 0.8625 0.865  0.865  0.8675 0.8675\n",
      " 0.8725 0.8725 0.875  0.875  0.8775 0.8775 0.88   0.88   0.885  0.885\n",
      " 0.89   0.89   0.8925 0.8925 0.895  0.895  0.8975 0.8975 0.9    0.9\n",
      " 0.9025 0.9025 0.905  0.905  0.9075 0.9075 0.91   0.91   0.9125 0.9125\n",
      " 0.915  0.915  0.9175 0.9175 0.9225 0.9225 0.925  0.925  0.9275 0.9275\n",
      " 0.93   0.93   0.935  0.935  0.9375 0.9375 0.94   0.94   0.9425 0.9425\n",
      " 0.945  0.945  0.9475 0.9475 0.95   0.95   0.955  0.955  0.9575 0.9575\n",
      " 0.9625 0.9625 0.965  0.965  0.9675 0.9675 0.97   0.97   0.9725 0.9725\n",
      " 0.975  0.975  0.9775 0.9775 0.98   0.98   0.9825 0.9825 0.985  0.985\n",
      " 0.9875 0.9875 0.99   0.99   0.9925 0.9925 0.995  0.995  0.9975 0.9975\n",
      " 1.     1.     1.     1.    ] [inf 0.8 0.6 0.4 0.2 0. ]\n",
      "fpr_knn, tpr_knn, _  : [0.         0.00693756 0.03666997 0.12289395 0.26362735 1.        ] [0.     0.0025 0.03   0.1    0.3575 1.    ] [inf 0.8 0.6 0.4 0.2 0. ]\n"
     ]
    }
   ],
   "source": [
    "print(\"log_probs:\",log_probs)\n",
    "print(\"knn_probs:\",knn_probs)\n",
    "print(\"fpr_log, tpr_log, _ :\",fpr_log, tpr_log, _ )\n",
    "print(\"fpr_knn, tpr_knn, _  :\",fpr_knn, tpr_knn, _  )"
   ]
  },
  {
   "cell_type": "code",
   "execution_count": 28,
   "id": "f89c7ee7-ba74-45d5-bd76-12a9d5ce98e9",
   "metadata": {},
   "outputs": [],
   "source": [
    "auc_log = auc(fpr_log, tpr_log)\n",
    "auc_knn = auc(fpr_knn, tpr_knn)\n"
   ]
  },
  {
   "cell_type": "code",
   "execution_count": 29,
   "id": "9125a082-d4aa-4fdb-a929-88f8f481e042",
   "metadata": {},
   "outputs": [
    {
     "name": "stdout",
     "output_type": "stream",
     "text": [
      "auc_log: 0.8163763627353816\n",
      "auc_knn: 0.5381020812685827\n"
     ]
    }
   ],
   "source": [
    "print(\"auc_log:\",auc_log)\n",
    "print(\"auc_knn:\",auc_knn)"
   ]
  },
  {
   "cell_type": "code",
   "execution_count": 30,
   "id": "c471a509-afce-40d7-8f88-d67ba3cc38ca",
   "metadata": {},
   "outputs": [
    {
     "data": {
      "image/png": "[encoded data removed]",
      "text/plain": [
       "<Figure size 800x600 with 1 Axes>"
      ]
     },
     "metadata": {},
     "output_type": "display_data"
    }
   ],
   "source": [
    "plt.figure(figsize=(8, 6))\n",
    "plt.plot(fpr_log, tpr_log, label=f'Logistic Regression (AUC = {auc_log:.2f})')\n",
    "plt.plot(fpr_knn, tpr_knn, label=f'KNN (AUC = {auc_knn:.2f})')\n",
    "plt.plot([0, 1], [0, 1], 'k--')\n",
    "plt.xlabel('False Positive Rate')\n",
    "plt.ylabel('True Positive Rate')\n",
    "plt.title('ROC Curve')\n",
    "plt.legend()\n",
    "plt.grid()\n",
    "plt.show()"
   ]
  },
  {
   "cell_type": "code",
   "execution_count": null,
   "id": "d3e78e8f-a3b0-4be1-92d9-413f390d3ac8",
   "metadata": {},
   "outputs": [],
   "source": []
  }
 ],
 "metadata": {
  "kernelspec": {
   "display_name": "Python 3 (ipykernel)",
   "language": "python",
   "name": "python3"
  },
  "language_info": {
   "codemirror_mode": {
    "name": "ipython",
    "version": 3
   },
   "file_extension": ".py",
   "mimetype": "text/x-python",
   "name": "python",
   "nbconvert_exporter": "python",
   "pygments_lexer": "ipython3",
   "version": "3.12.4"
  }
 },
 "nbformat": 4,
 "nbformat_minor": 5
}
