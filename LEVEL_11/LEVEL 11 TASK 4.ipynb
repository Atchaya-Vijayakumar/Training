{
 "cells": [
  {
   "cell_type": "code",
   "execution_count": 1,
   "id": "15dd5006-0422-4962-a9f4-2da35386f339",
   "metadata": {},
   "outputs": [
    {
     "name": "stdout",
     "output_type": "stream",
     "text": [
      "[[ 2.34476576  0.98214266  0.62855945 ... -0.04959654  1.05254828\n",
      "  -1.32783522]\n",
      " [ 2.33223796 -0.60701891  0.32704136 ... -0.09251223  1.04318455\n",
      "  -1.32284391]\n",
      " [ 1.7826994   1.85618152  1.15562047 ... -0.02584253  1.03850269\n",
      "  -1.33282653]\n",
      " ...\n",
      " [-1.14259331 -0.92485123 -0.09031802 ... -0.0717345   1.77823747\n",
      "  -0.8237132 ]\n",
      " [-1.05458292 -0.84539315 -0.04021111 ... -0.09122515  1.77823747\n",
      "  -0.87362627]\n",
      " [-0.78012947 -1.00430931 -0.07044252 ... -0.04368215  1.75014627\n",
      "  -0.83369581]]\n",
      "\n",
      "📊 Selected Features (Non-Zero Coefficients):\n",
      "    Feature  Lasso Coefficients\n",
      "0    MedInc            0.709186\n",
      "1  HouseAge            0.106475\n",
      "6  Latitude           -0.011479\n",
      "\n",
      "📉 Eliminated Features (Zero Coefficients):\n",
      "['AveRooms', 'AveBedrms', 'Population', 'AveOccup', 'Longitude']\n",
      "\n",
      "🔹 Model Performance:\n",
      "- R² Score: 0.4814\n",
      "- Mean Squared Error: 0.6796\n",
      "\n",
      "⚡️ Lasso has eliminated some features due to its sparsity effect!\n"
     ]
    }
   ],
   "source": [
    "import numpy as np\n",
    "import pandas as pd\n",
    "from sklearn.datasets import fetch_california_housing\n",
    "from sklearn.model_selection import train_test_split\n",
    "from sklearn.linear_model import Lasso\n",
    "from sklearn.preprocessing import StandardScaler\n",
    "from sklearn.metrics import mean_squared_error, r2_score\n",
    "data=pd.read_csv('housing.csv')\n",
    "data.head()\n",
    "data = fetch_california_housing()\n",
    "X, y = data.data, data.target\n",
    "feature_names = data.feature_names\n",
    "scaler = StandardScaler()\n",
    "X_scaled = scaler.fit_transform(X)\n",
    "print(X_scaled)\n",
    "X_train, X_test, y_train, y_test = train_test_split(X_scaled, y, test_size=0.2, random_state=42)\n",
    "lasso_model = Lasso(alpha=0.1)\n",
    "lasso_model.fit(X_train, y_train)\n",
    "lasso_coefficients = lasso_model.coef_\n",
    "selected_features = [feature for feature, coef in zip(feature_names, lasso_coefficients) if coef != 0]\n",
    "eliminated_features = [feature for feature, coef in zip(feature_names, lasso_coefficients) if coef == 0]\n",
    "y_pred_lasso = lasso_model.predict(X_test)\n",
    "r2 = r2_score(y_test, y_pred_lasso)\n",
    "mse = mean_squared_error(y_test, y_pred_lasso)\n",
    "coeff_comparison = pd.DataFrame({\n",
    "    'Feature': feature_names,\n",
    "    'Lasso Coefficients': lasso_coefficients\n",
    "})\n",
    "non_zero_features = coeff_comparison[coeff_comparison['Lasso Coefficients'] != 0]\n",
    "print(\"\\n📊 Selected Features (Non-Zero Coefficients):\")\n",
    "print(non_zero_features)\n",
    "print(\"\\n📉 Eliminated Features (Zero Coefficients):\")\n",
    "print(eliminated_features)\n",
    "print(f\"\\n🔹 Model Performance:\\n- R² Score: {r2:.4f}\\n- Mean Squared Error: {mse:.4f}\")\n",
    "print(\"\\n⚡️ Lasso has eliminated some features due to its sparsity effect!\")\n"
   ]
  },
  {
   "cell_type": "code",
   "execution_count": null,
   "id": "85edf9b8-efcc-4f0d-9c78-0b835fd225c4",
   "metadata": {},
   "outputs": [],
   "source": []
  }
 ],
 "metadata": {
  "kernelspec": {
   "display_name": "Python 3 (ipykernel)",
   "language": "python",
   "name": "python3"
  },
  "language_info": {
   "codemirror_mode": {
    "name": "ipython",
    "version": 3
   },
   "file_extension": ".py",
   "mimetype": "text/x-python",
   "name": "python",
   "nbconvert_exporter": "python",
   "pygments_lexer": "ipython3",
   "version": "3.12.4"
  }
 },
 "nbformat": 4,
 "nbformat_minor": 5
}
