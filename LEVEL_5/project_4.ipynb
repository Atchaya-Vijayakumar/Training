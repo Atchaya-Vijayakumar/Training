{
 "cells": [
  {
   "cell_type": "code",
   "execution_count": 4,
   "id": "5b94bdee-8dca-4226-83f8-879a3174b377",
   "metadata": {},
   "outputs": [
    {
     "name": "stdin",
     "output_type": "stream",
     "text": [
      "🔹 Enter a short message to encrypt:  hey how are you\n"
     ]
    },
    {
     "name": "stdout",
     "output_type": "stream",
     "text": [
      "✅ Message written to 'message.txt' successfully.\n",
      "✅ Hash written to 'encrypted.txt' successfully.\n",
      "🔹 Generated Hash Value: 1066766c41acd02b3ec83e370104d6e5e5eb073c24228c2622619782b6190b7b\n"
     ]
    }
   ],
   "source": [
    "\n",
    "import hashlib\n",
    "message = input(\"🔹 Enter a short message to encrypt: \")\n",
    "with open('message.txt', 'w') as file:\n",
    "    file.write(message)\n",
    "print(\"✅ Message written to 'message.txt' successfully.\")\n",
    "with open('message.txt', 'r') as file:\n",
    "    file_content = file.read()\n",
    "encoded_content = file_content.encode('utf-8')\n",
    "hash_object = hashlib.sha256(encoded_content)\n",
    "hash_value = hash_object.hexdigest()\n",
    "with open('encrypted.txt', 'w') as file:\n",
    "    file.write(hash_value)\n",
    "\n",
    "print(\"✅ Hash written to 'encrypted.txt' successfully.\")\n",
    "\n",
    "print(f\"🔹 Generated Hash Value: {hash_value}\")\n"
   ]
  },
  {
   "cell_type": "code",
   "execution_count": null,
   "id": "c5905e37-e988-4823-9365-f020fce57beb",
   "metadata": {},
   "outputs": [],
   "source": []
  }
 ],
 "metadata": {
  "kernelspec": {
   "display_name": "Python 3 (ipykernel)",
   "language": "python",
   "name": "python3"
  },
  "language_info": {
   "codemirror_mode": {
    "name": "ipython",
    "version": 3
   },
   "file_extension": ".py",
   "mimetype": "text/x-python",
   "name": "python",
   "nbconvert_exporter": "python",
   "pygments_lexer": "ipython3",
   "version": "3.12.4"
  }
 },
 "nbformat": 4,
 "nbformat_minor": 5
}
