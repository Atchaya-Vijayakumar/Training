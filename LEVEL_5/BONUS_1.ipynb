{
 "cells": [
  {
   "cell_type": "code",
   "execution_count": 1,
   "id": "2fd28d69-aacc-4cb2-b1f6-1716238a62a1",
   "metadata": {},
   "outputs": [
    {
     "name": "stdout",
     "output_type": "stream",
     "text": [
      "Mean of data1.csv: 538806.2816882139\n",
      "Mean of data2.csv: 538806.2816882139\n"
     ]
    }
   ],
   "source": [
    "import threading\n",
    "import logging\n",
    "import pandas as pd\n",
    "logging.basicConfig(filename='processing.log', level=logging.INFO, format='%(asctime)s - %(message)s')\n",
    "\n",
    "def process_csv(file_name, column_name):\n",
    "    logging.info(f\"Started processing {file_name}\")\n",
    "    try:\n",
    "        data = pd.read_csv(\"House Price India.csv\")\n",
    "        mean_value = data['Price'].mean()\n",
    "        logging.info(f\"Finished processing {file_name}. Mean of {column_name}: {mean_value}\")\n",
    "        print(f\"Mean of {file_name}: {mean_value}\")\n",
    "    except Exception as e:\n",
    "        logging.error(f\"Error processing {file_name}: {e}\")\n",
    "file1 = 'data1.csv'\n",
    "file2 = 'data2.csv'\n",
    "column_name = 'value_column'  \n",
    "thread1 = threading.Thread(target=process_csv, args=(file1, column_name))\n",
    "thread2 = threading.Thread(target=process_csv, args=(file2, column_name))\n",
    "thread1.start()\n",
    "thread2.start()\n",
    "thread1.join()\n",
    "thread2.join()"
   ]
  },
  {
   "cell_type": "code",
   "execution_count": null,
   "id": "13b739d0-e8ea-444e-811c-c3b6614bc03d",
   "metadata": {},
   "outputs": [],
   "source": []
  }
 ],
 "metadata": {
  "kernelspec": {
   "display_name": "Python 3 (ipykernel)",
   "language": "python",
   "name": "python3"
  },
  "language_info": {
   "codemirror_mode": {
    "name": "ipython",
    "version": 3
   },
   "file_extension": ".py",
   "mimetype": "text/x-python",
   "name": "python",
   "nbconvert_exporter": "python",
   "pygments_lexer": "ipython3",
   "version": "3.12.4"
  }
 },
 "nbformat": 4,
 "nbformat_minor": 5
}
