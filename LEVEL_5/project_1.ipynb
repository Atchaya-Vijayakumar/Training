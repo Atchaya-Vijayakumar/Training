{
 "cells": [
  {
   "cell_type": "code",
   "execution_count": 1,
   "id": "bbcff253-45f8-463a-a5f4-3365f42185be",
   "metadata": {},
   "outputs": [
    {
     "name": "stdout",
     "output_type": "stream",
     "text": [
      "Income: 4500, Expenses: 2400, Balance: 2100\n"
     ]
    }
   ],
   "source": [
    "income_sources = {\n",
    "    \"salary\": 3000,\n",
    "    \"freelance\": 1000,\n",
    "    \"investments\": 500\n",
    "}\n",
    "expense_categories = {\n",
    "    \"rent\": 1500,\n",
    "    \"food\": 600,\n",
    "    \"utilities\": 200,\n",
    "    \"transport\": 100\n",
    "}\n",
    "def calculate_total_income(income):\n",
    "    return sum(income.values())\n",
    "def calculate_total_expenses(expenses):\n",
    "    return sum(expenses.values())\n",
    "total_income = calculate_total_income(income_sources)\n",
    "total_expenses = calculate_total_expenses(expense_categories)\n",
    "balance = total_income - total_expenses\n",
    "print(f\"Income: {total_income}, Expenses: {total_expenses}, Balance: {balance}\")\n"
   ]
  },
  {
   "cell_type": "code",
   "execution_count": null,
   "id": "3b61ae6d-a766-4239-ba47-f28addedf1ba",
   "metadata": {},
   "outputs": [],
   "source": []
  }
 ],
 "metadata": {
  "kernelspec": {
   "display_name": "Python 3 (ipykernel)",
   "language": "python",
   "name": "python3"
  },
  "language_info": {
   "codemirror_mode": {
    "name": "ipython",
    "version": 3
   },
   "file_extension": ".py",
   "mimetype": "text/x-python",
   "name": "python",
   "nbconvert_exporter": "python",
   "pygments_lexer": "ipython3",
   "version": "3.12.4"
  }
 },
 "nbformat": 4,
 "nbformat_minor": 5
}
