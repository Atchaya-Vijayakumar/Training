{
 "cells": [
  {
   "cell_type": "code",
   "execution_count": null,
   "id": "d86fdb64-c3af-4783-b29e-a5c6df973da4",
   "metadata": {},
   "outputs": [
    {
     "name": "stdin",
     "output_type": "stream",
     "text": [
      "Enter student 1's name:  ram\n",
      "Enter ram's grade (0-100):  78\n"
     ]
    }
   ],
   "source": [
    "grades_list = []\n",
    "for i in range(5):\n",
    "    name = input(f\"Enter student {i + 1}'s name: \")\n",
    "    while True:\n",
    "        try:\n",
    "            grade = float(input(f\"Enter {name}'s grade (0-100): \"))\n",
    "            if 0 <= grade <= 100:\n",
    "                break\n",
    "            else:\n",
    "                print(\"Grade must be between 0 and 100. Please try again.\")\n",
    "        except ValueError:\n",
    "            print(\"Invalid input. Please enter a numeric value.\")\n",
    "    grades_list.append((name, grade))\n",
    "def calculate_average(grades):\n",
    "    total = sum(grade for _, grade in grades)\n",
    "    return total / len(grades)\n",
    "def count_passing(grades):\n",
    "    passing_students = [grade for _, grade in grades if grade > 60]\n",
    "    return len(passing_students)\n",
    "average_grade = calculate_average(grades_list)\n",
    "passing_count = count_passing(grades_list)\n",
    "print(f\"\\n🔹 Average Grade: {average_grade:.2f}\")\n",
    "print(f\"✅ Passing Students: {passing_count} out of 5\")\n"
   ]
  },
  {
   "cell_type": "code",
   "execution_count": null,
   "id": "03a05bf9-f01d-40a2-84a1-b9fb66ad7027",
   "metadata": {},
   "outputs": [],
   "source": []
  }
 ],
 "metadata": {
  "kernelspec": {
   "display_name": "Python 3 (ipykernel)",
   "language": "python",
   "name": "python3"
  },
  "language_info": {
   "codemirror_mode": {
    "name": "ipython",
    "version": 3
   },
   "file_extension": ".py",
   "mimetype": "text/x-python",
   "name": "python",
   "nbconvert_exporter": "python",
   "pygments_lexer": "ipython3",
   "version": "3.12.4"
  }
 },
 "nbformat": 4,
 "nbformat_minor": 5
}
