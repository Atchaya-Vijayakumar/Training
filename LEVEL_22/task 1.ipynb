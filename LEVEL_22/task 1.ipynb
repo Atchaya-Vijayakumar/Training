{
 "cells": [
  {
   "cell_type": "code",
   "execution_count": 2,
   "id": "635577bf-1a42-4448-a241-ca312047bb55",
   "metadata": {},
   "outputs": [
    {
     "name": "stdout",
     "output_type": "stream",
     "text": [
      "Epoch 10: Loss = nan\n",
      "Epoch 20: Loss = nan\n",
      "Epoch 30: Loss = nan\n",
      "Epoch 40: Loss = nan\n",
      "Epoch 50: Loss = nan\n",
      "Epoch 60: Loss = nan\n",
      "Epoch 70: Loss = nan\n",
      "Epoch 80: Loss = nan\n",
      "Epoch 90: Loss = nan\n",
      "Epoch 100: Loss = nan\n"
     ]
    },
    {
     "data": {
      "image/png": "[encoded data removed]",
      "text/plain": [
       "<Figure size 640x480 with 1 Axes>"
      ]
     },
     "metadata": {},
     "output_type": "display_data"
    },
    {
     "name": "stdout",
     "output_type": "stream",
     "text": [
      "Predicted: nan, Actual: 23.60\n",
      "Predicted: nan, Actual: 32.40\n",
      "Predicted: nan, Actual: 13.60\n",
      "Predicted: nan, Actual: 22.80\n",
      "Predicted: nan, Actual: 16.10\n",
      "Predicted: nan, Actual: 20.00\n",
      "Predicted: nan, Actual: 17.80\n",
      "Predicted: nan, Actual: 14.00\n",
      "Predicted: nan, Actual: 19.60\n",
      "Predicted: nan, Actual: 16.80\n"
     ]
    }
   ],
   "source": [
    "import pandas as pd\n",
    "import numpy as np\n",
    "import matplotlib.pyplot as plt\n",
    "from sklearn.model_selection import train_test_split\n",
    "from sklearn.preprocessing import StandardScaler\n",
    "\n",
    "# 1. Load the dataset\n",
    "data = pd.read_csv('BostonHousing.csv')\n",
    "\n",
    "# 2. Feature selection\n",
    "X = data.drop('medv', axis=1).values  # Features\n",
    "y = data['medv'].values  # Target\n",
    "\n",
    "# 3. Standardize features\n",
    "scaler = StandardScaler()\n",
    "X_scaled = scaler.fit_transform(X)\n",
    "\n",
    "# 4. Train-test split\n",
    "X_train, X_test, y_train, y_test = train_test_split(X_scaled, y, test_size=0.2, random_state=42)\n",
    "\n",
    "# 5. Initialize parameters\n",
    "np.random.seed(42)\n",
    "n_features = X_train.shape[1]\n",
    "w = np.random.randn(n_features)  # weights\n",
    "b = 0.0  # bias\n",
    "\n",
    "# 6. Set hyperparameters\n",
    "learning_rate = 0.01\n",
    "epochs = 100\n",
    "loss_history = []\n",
    "\n",
    "# 7. Gradient Descent\n",
    "for epoch in range(epochs):\n",
    "    # Forward pass\n",
    "    y_pred = np.dot(X_train, w) + b\n",
    "    \n",
    "    # Compute loss (MSE)\n",
    "    loss = np.mean((y_pred - y_train) ** 2)\n",
    "    loss_history.append(loss)\n",
    "    \n",
    "    # Compute gradients\n",
    "    error = y_pred - y_train\n",
    "    dw = (2 / X_train.shape[0]) * np.dot(X_train.T, error)\n",
    "    db = (2 / X_train.shape[0]) * np.sum(error)\n",
    "    \n",
    "    # Update parameters\n",
    "    w -= learning_rate * dw\n",
    "    b -= learning_rate * db\n",
    "    \n",
    "    if (epoch+1) % 10 == 0:\n",
    "        print(f\"Epoch {epoch+1}: Loss = {loss:.4f}\")\n",
    "\n",
    "# 8. Plot loss vs epoch\n",
    "plt.plot(range(epochs), loss_history)\n",
    "plt.xlabel('Epoch')\n",
    "plt.ylabel('Mean Squared Error Loss')\n",
    "plt.title('Loss vs Epoch')\n",
    "plt.grid(True)\n",
    "plt.show()\n",
    "\n",
    "# 9. Evaluate on test data\n",
    "y_test_pred = np.dot(X_test, w) + b\n",
    "\n",
    "# Print some predictions vs actual\n",
    "for i in range(10):\n",
    "    print(f\"Predicted: {y_test_pred[i]:.2f}, Actual: {y_test[i]:.2f}\")\n"
   ]
  },
  {
   "cell_type": "code",
   "execution_count": null,
   "id": "a6814844-397f-4c83-9ea6-fbfddeaa8c80",
   "metadata": {},
   "outputs": [],
   "source": []
  }
 ],
 "metadata": {
  "kernelspec": {
   "display_name": "Python 3 (ipykernel)",
   "language": "python",
   "name": "python3"
  },
  "language_info": {
   "codemirror_mode": {
    "name": "ipython",
    "version": 3
   },
   "file_extension": ".py",
   "mimetype": "text/x-python",
   "name": "python",
   "nbconvert_exporter": "python",
   "pygments_lexer": "ipython3",
   "version": "3.12.4"
  }
 },
 "nbformat": 4,
 "nbformat_minor": 5
}
