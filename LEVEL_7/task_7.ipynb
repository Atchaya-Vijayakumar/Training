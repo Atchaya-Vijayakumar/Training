{
 "cells": [
  {
   "cell_type": "code",
   "execution_count": 1,
   "id": "774baf3f-2ea2-4d12-a0c8-4f5da04b7b34",
   "metadata": {},
   "outputs": [
    {
     "name": "stdout",
     "output_type": "stream",
     "text": [
      "Simulated Probability of rolling 5 and then 4: 0.0400\n",
      "Theoretical Probability is 1/36 ≈ 0.0278\n",
      "The simulated probability is not very close to the theoretical probability.\n"
     ]
    }
   ],
   "source": [
    "import numpy as np\n",
    "rolls_1 = np.random.randint(1, 7, 1000) \n",
    "rolls_2 = np.random.randint(1, 7, 1000)\n",
    "count_5_and_4 = np.sum((rolls_1 == 5) & (rolls_2 == 4))\n",
    "simulated_prob = count_5_and_4 / 1000\n",
    "theoretical_prob = 1 / 36\n",
    "print(f\"Simulated Probability of rolling 5 and then 4: {simulated_prob:.4f}\")\n",
    "print(f\"Theoretical Probability is 1/36 ≈ {theoretical_prob:.4f}\")\n",
    "if abs(simulated_prob - theoretical_prob) < 0.01:\n",
    "    print(\"The simulated probability is close to the theoretical probability.\")\n",
    "else:\n",
    "    print(\"The simulated probability is not very close to the theoretical probability.\")\n",
    "    "
   ]
  },
  {
   "cell_type": "code",
   "execution_count": null,
   "id": "8d923f44-48e2-4c37-8517-ff836dd3801e",
   "metadata": {},
   "outputs": [],
   "source": []
  }
 ],
 "metadata": {
  "kernelspec": {
   "display_name": "Python 3 (ipykernel)",
   "language": "python",
   "name": "python3"
  },
  "language_info": {
   "codemirror_mode": {
    "name": "ipython",
    "version": 3
   },
   "file_extension": ".py",
   "mimetype": "text/x-python",
   "name": "python",
   "nbconvert_exporter": "python",
   "pygments_lexer": "ipython3",
   "version": "3.12.4"
  }
 },
 "nbformat": 4,
 "nbformat_minor": 5
}
