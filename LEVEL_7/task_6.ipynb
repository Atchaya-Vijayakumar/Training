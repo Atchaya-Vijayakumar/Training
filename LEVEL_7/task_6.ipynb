{
 "cells": [
  {
   "cell_type": "code",
   "execution_count": 5,
   "id": "bf32aae7-8111-4a56-8f0d-39ef879326c7",
   "metadata": {},
   "outputs": [
    {
     "name": "stdout",
     "output_type": "stream",
     "text": [
      "p(Queen) = 0.0769\n",
      "p(Heart) = 0.2500\n",
      "p(Queen and Heart) = 0.0192\n",
      "p(Queen or Heart) = 0.3077 ≈ 0.3077\n",
      "p(Queen or Heart) = 4/13 ≈ 0.3077, accounting for overlap.\n"
     ]
    }
   ],
   "source": [
    "p_queen=4/52\n",
    "p_heart=13/52\n",
    "p_queen_and_heart=1/52\n",
    "p_queen_or_heart = p_queen + p_heart - p_queen_and_heart\n",
    "print(f\"p(Queen) = {p_queen:.4f}\")\n",
    "print(f\"p(Heart) = {p_heart:.4f}\")\n",
    "print(f\"p(Queen and Heart) = {p_queen_and_heart:.4f}\")\n",
    "print(f\"p(Queen or Heart) = {p_queen_or_heart:.4f} ≈ {4/13:.4f}\")\n",
    "print(\"p(Queen or Heart) = 4/13 ≈ 0.3077, accounting for overlap.\")"
   ]
  },
  {
   "cell_type": "code",
   "execution_count": null,
   "id": "b48ad186-024f-4596-af01-1eeb578b223a",
   "metadata": {},
   "outputs": [],
   "source": []
  }
 ],
 "metadata": {
  "kernelspec": {
   "display_name": "Python 3 (ipykernel)",
   "language": "python",
   "name": "python3"
  },
  "language_info": {
   "codemirror_mode": {
    "name": "ipython",
    "version": 3
   },
   "file_extension": ".py",
   "mimetype": "text/x-python",
   "name": "python",
   "nbconvert_exporter": "python",
   "pygments_lexer": "ipython3",
   "version": "3.12.4"
  }
 },
 "nbformat": 4,
 "nbformat_minor": 5
}
