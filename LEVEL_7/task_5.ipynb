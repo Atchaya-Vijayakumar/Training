{
 "cells": [
  {
   "cell_type": "code",
   "execution_count": 1,
   "id": "60b42ac5-4b19-4578-af18-d6ea5481dcab",
   "metadata": {},
   "outputs": [
    {
     "name": "stdout",
     "output_type": "stream",
     "text": [
      "Simulated Probability of rolling 1 or 3: 0.345\n",
      "Theoretical Probability: 0.333\n",
      "Theoretical probability is 1/3, close to simulation.\n"
     ]
    }
   ],
   "source": [
    "import numpy as np\n",
    "die_rolls = np.random.randint(1, 7, size=1000)\n",
    "count_1_or_3 = np.sum((die_rolls == 1) | (die_rolls == 3))\n",
    "simulated_probability = count_1_or_3 / 1000\n",
    "theoretical_probability = 1/3\n",
    "print(f\"Simulated Probability of rolling 1 or 3: {simulated_probability:.3f}\")\n",
    "print(f\"Theoretical Probability: {theoretical_probability:.3f}\")\n",
    "if np.isclose(simulated_probability, theoretical_probability, atol=0.05):\n",
    "    print(\"Theoretical probability is 1/3, close to simulation.\")\n",
    "else:\n",
    "    print(\"Theoretical probability differs from simulation.\")"
   ]
  },
  {
   "cell_type": "code",
   "execution_count": null,
   "id": "7ba75715-504b-409d-ac44-ccee66eb0865",
   "metadata": {},
   "outputs": [],
   "source": []
  }
 ],
 "metadata": {
  "kernelspec": {
   "display_name": "Python 3 (ipykernel)",
   "language": "python",
   "name": "python3"
  },
  "language_info": {
   "codemirror_mode": {
    "name": "ipython",
    "version": 3
   },
   "file_extension": ".py",
   "mimetype": "text/x-python",
   "name": "python",
   "nbconvert_exporter": "python",
   "pygments_lexer": "ipython3",
   "version": "3.12.4"
  }
 },
 "nbformat": 4,
 "nbformat_minor": 5
}
