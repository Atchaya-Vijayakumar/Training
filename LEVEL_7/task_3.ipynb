{
 "cells": [
  {
   "cell_type": "code",
   "execution_count": 1,
   "id": "c759fb5f-d78d-4613-a30e-c2a41e862f7b",
   "metadata": {},
   "outputs": [
    {
     "name": "stdout",
     "output_type": "stream",
     "text": [
      "[ 1  2  3  4  5  6  7  8  9 20]\n"
     ]
    }
   ],
   "source": [
    "import numpy as np\n",
    "import pandas as pd\n",
    "data=np.array([1, 2, 3, 4, 5, 6, 7, 8, 9, 20])\n",
    "print(data)"
   ]
  },
  {
   "cell_type": "code",
   "execution_count": 2,
   "id": "87aab522-ff0a-4755-957e-e3a50a3973d3",
   "metadata": {},
   "outputs": [
    {
     "name": "stdout",
     "output_type": "stream",
     "text": [
      "6.5\n"
     ]
    }
   ],
   "source": [
    "mean=np.mean(data)\n",
    "print(mean)"
   ]
  },
  {
   "cell_type": "code",
   "execution_count": 3,
   "id": "54ec87c9-0114-4251-b200-c15031249fbc",
   "metadata": {},
   "outputs": [
    {
     "name": "stdout",
     "output_type": "stream",
     "text": [
      "5.123475382979799\n"
     ]
    }
   ],
   "source": [
    "std_dev=np.std(data)\n",
    "print(std_dev)"
   ]
  },
  {
   "cell_type": "code",
   "execution_count": 4,
   "id": "7ef627f5-bd53-4a71-b22c-f471b4b26ba1",
   "metadata": {},
   "outputs": [
    {
     "name": "stdout",
     "output_type": "stream",
     "text": [
      "[-1.07349008 -0.87831007 -0.68313005 -0.48795004 -0.29277002 -0.09759001\n",
      "  0.09759001  0.29277002  0.48795004  2.6349302 ]\n"
     ]
    }
   ],
   "source": [
    "z_score=(data-mean)/std_dev\n",
    "print(z_score)"
   ]
  },
  {
   "cell_type": "code",
   "execution_count": 5,
   "id": "5bd1f4f7-5496-407b-bf79-b42eaf0f4d43",
   "metadata": {},
   "outputs": [
    {
     "name": "stdout",
     "output_type": "stream",
     "text": [
      "No outliers detected; all z-scores are below 3.\n"
     ]
    }
   ],
   "source": [
    "outliers = data[np.abs(z_score) > 3]\n",
    "if len(outliers) == 0:\n",
    "    print(\"No outliers detected; all z-scores are below 3.\")\n",
    "else:\n",
    "    print(f\"Outliers detected: {outliers}\")"
   ]
  },
  {
   "cell_type": "code",
   "execution_count": null,
   "id": "629ab0f7-f740-43f9-9ed5-de6c2820cbf0",
   "metadata": {},
   "outputs": [],
   "source": []
  }
 ],
 "metadata": {
  "kernelspec": {
   "display_name": "Python 3 (ipykernel)",
   "language": "python",
   "name": "python3"
  },
  "language_info": {
   "codemirror_mode": {
    "name": "ipython",
    "version": 3
   },
   "file_extension": ".py",
   "mimetype": "text/x-python",
   "name": "python",
   "nbconvert_exporter": "python",
   "pygments_lexer": "ipython3",
   "version": "3.12.4"
  }
 },
 "nbformat": 4,
 "nbformat_minor": 5
}
