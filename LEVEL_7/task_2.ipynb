{
 "cells": [
  {
   "cell_type": "code",
   "execution_count": 1,
   "id": "0445a905-0cf4-4e4f-acbc-bba2787dfad6",
   "metadata": {},
   "outputs": [],
   "source": [
    "import numpy as np\n",
    "import pandas as pd\n",
    "from scipy.stats import norm"
   ]
  },
  {
   "cell_type": "code",
   "execution_count": 2,
   "id": "df17dcbc-8076-49b7-b887-f08466b22465",
   "metadata": {},
   "outputs": [
    {
     "name": "stdout",
     "output_type": "stream",
     "text": [
      "Approximately 40.13% of scores fall above 4.25.\n"
     ]
    }
   ],
   "source": [
    "z_value = 0.25\n",
    "percentage_above_4_25 = norm.sf(z_value) * 100\n",
    "print(f\"Approximately {percentage_above_4_25:.2f}% of scores fall above 4.25.\")"
   ]
  },
  {
   "cell_type": "code",
   "execution_count": null,
   "id": "aa226cf3-6594-4052-88d3-e904f62a0b45",
   "metadata": {},
   "outputs": [],
   "source": []
  }
 ],
 "metadata": {
  "kernelspec": {
   "display_name": "Python 3 (ipykernel)",
   "language": "python",
   "name": "python3"
  },
  "language_info": {
   "codemirror_mode": {
    "name": "ipython",
    "version": 3
   },
   "file_extension": ".py",
   "mimetype": "text/x-python",
   "name": "python",
   "nbconvert_exporter": "python",
   "pygments_lexer": "ipython3",
   "version": "3.12.4"
  }
 },
 "nbformat": 4,
 "nbformat_minor": 5
}
