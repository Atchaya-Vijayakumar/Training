{
 "cells": [
  {
   "cell_type": "code",
   "execution_count": 1,
   "id": "2a8f5798-3a00-453c-b113-7ada46841138",
   "metadata": {},
   "outputs": [
    {
     "name": "stdout",
     "output_type": "stream",
     "text": [
      "Requirement already satisfied: PyPDF2 in c:\\users\\vatch\\anaconda3\\lib\\site-packages (3.0.1)\n"
     ]
    },
    {
     "name": "stderr",
     "output_type": "stream",
     "text": [
      "WARNING: Ignoring invalid distribution ~treamlit (C:\\Users\\vatch\\anaconda3\\Lib\\site-packages)\n",
      "WARNING: Ignoring invalid distribution ~treamlit (C:\\Users\\vatch\\anaconda3\\Lib\\site-packages)\n",
      "WARNING: Ignoring invalid distribution ~treamlit (C:\\Users\\vatch\\anaconda3\\Lib\\site-packages)\n"
     ]
    }
   ],
   "source": [
    "!pip install PyPDF2\n"
   ]
  },
  {
   "cell_type": "code",
   "execution_count": 5,
   "id": "a116d45a-6d98-458b-824e-3ab5a365ae15",
   "metadata": {},
   "outputs": [
    {
     "name": "stdout",
     "output_type": "stream",
     "text": [
      "output.pdf\n"
     ]
    }
   ],
   "source": [
    "from PyPDF2 import PdfReader,PdfWriter\n",
    "pdf_file=PdfReader(\"3.Regular expression.pdf\")\n",
    "out_pdf=PdfWriter()\n",
    "for i in range(len(pdf_file.pages)):\n",
    "    page_details=pdf_file.pages[i]\n",
    "    out_pdf.add_page(page_details)\n",
    "password='Pass@1258'\n",
    "out_pdf.encrypt(password)\n",
    "with open(\"output.pdf\",\"wb\") as filename:\n",
    "    out_pdf.write(filename)\n",
    "print(\"output.pdf\")"
   ]
  },
  {
   "cell_type": "code",
   "execution_count": null,
   "id": "c0a8f498-4469-45e9-8fa0-90d13e9c569d",
   "metadata": {},
   "outputs": [],
   "source": []
  }
 ],
 "metadata": {
  "kernelspec": {
   "display_name": "Python 3 (ipykernel)",
   "language": "python",
   "name": "python3"
  },
  "language_info": {
   "codemirror_mode": {
    "name": "ipython",
    "version": 3
   },
   "file_extension": ".py",
   "mimetype": "text/x-python",
   "name": "python",
   "nbconvert_exporter": "python",
   "pygments_lexer": "ipython3",
   "version": "3.12.4"
  }
 },
 "nbformat": 4,
 "nbformat_minor": 5
}
