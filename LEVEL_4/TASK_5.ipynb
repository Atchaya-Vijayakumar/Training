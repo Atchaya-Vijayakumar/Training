{
 "cells": [
  {
   "cell_type": "code",
   "execution_count": 4,
   "id": "d509f516-5959-4453-89c5-67bfc1d6a524",
   "metadata": {},
   "outputs": [
    {
     "name": "stdout",
     "output_type": "stream",
     "text": [
      "Log messages have been written to 'app.log'.\n"
     ]
    }
   ],
   "source": [
    "import logging\n",
    "logging.basicConfig(filename=\"app.log\",\n",
    "                    level=logging.INFO,\n",
    "                    format=\"%(asctime)s - %(levelname)s - %(message)s\",\n",
    "                    force=True)  \n",
    "logging.info(\"Script has started successfully in Jupyter Notebook.\")\n",
    "task_name = \"Data Processing\"\n",
    "logging.info(f\"Task '{task_name}' has been completed in Jupyter.\")\n",
    "print(\"Log messages have been written to 'app.log'.\")\n"
   ]
  },
  {
   "cell_type": "code",
   "execution_count": null,
   "id": "01b3343c-0ad1-48de-80c9-4c136aa96118",
   "metadata": {},
   "outputs": [],
   "source": []
  }
 ],
 "metadata": {
  "kernelspec": {
   "display_name": "Python 3 (ipykernel)",
   "language": "python",
   "name": "python3"
  },
  "language_info": {
   "codemirror_mode": {
    "name": "ipython",
    "version": 3
   },
   "file_extension": ".py",
   "mimetype": "text/x-python",
   "name": "python",
   "nbconvert_exporter": "python",
   "pygments_lexer": "ipython3",
   "version": "3.12.4"
  }
 },
 "nbformat": 4,
 "nbformat_minor": 5
}
