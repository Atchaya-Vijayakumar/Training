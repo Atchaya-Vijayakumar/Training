{
 "cells": [
  {
   "cell_type": "code",
   "execution_count": 1,
   "id": "792d87a0-d3f1-4ef1-b1a3-f3ed5d10cd82",
   "metadata": {},
   "outputs": [
    {
     "name": "stdout",
     "output_type": "stream",
     "text": [
      "SHA256 hash: 2cf24dba5fb0a30e26e83b2ac5b9e29e1b161e5c1fa7425e73043362938b9824\n"
     ]
    }
   ],
   "source": [
    "import hashlib\n",
    "sample_string = \"hello\"\n",
    "encoded_string = sample_string.encode()\n",
    "hash_object = hashlib.sha256(encoded_string)\n",
    "hex_hash = hash_object.hexdigest()\n",
    "print(\"SHA256 hash:\", hex_hash)\n"
   ]
  },
  {
   "cell_type": "code",
   "execution_count": null,
   "id": "89037651-7417-402c-82d4-fba580bbb9ed",
   "metadata": {},
   "outputs": [],
   "source": []
  }
 ],
 "metadata": {
  "kernelspec": {
   "display_name": "Python 3 (ipykernel)",
   "language": "python",
   "name": "python3"
  },
  "language_info": {
   "codemirror_mode": {
    "name": "ipython",
    "version": 3
   },
   "file_extension": ".py",
   "mimetype": "text/x-python",
   "name": "python",
   "nbconvert_exporter": "python",
   "pygments_lexer": "ipython3",
   "version": "3.12.4"
  }
 },
 "nbformat": 4,
 "nbformat_minor": 5
}
