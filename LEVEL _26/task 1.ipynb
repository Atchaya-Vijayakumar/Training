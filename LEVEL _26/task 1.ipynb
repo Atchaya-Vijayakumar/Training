{
 "cells": [
  {
   "cell_type": "code",
   "execution_count": 3,
   "id": "2f2b4be1-35fd-47cb-b494-16908f097970",
   "metadata": {},
   "outputs": [],
   "source": [
    "import pandas as pd\n",
    "import numpy as np\n",
    "from sklearn.model_selection import train_test_split\n",
    "from tensorflow.keras.preprocessing.text import Tokenizer\n",
    "from tensorflow.keras.preprocessing.sequence import pad_sequences\n",
    "from tensorflow.keras.models import Sequential\n",
    "from tensorflow.keras.layers import Embedding, GRU, Dense"
   ]
  },
  {
   "cell_type": "code",
   "execution_count": 4,
   "id": "f8657fa0-be58-46ae-aaf2-e6a674766292",
   "metadata": {},
   "outputs": [
    {
     "data": {
      "text/html": [
       "<div>\n",
       "<style scoped>\n",
       "    .dataframe tbody tr th:only-of-type {\n",
       "        vertical-align: middle;\n",
       "    }\n",
       "\n",
       "    .dataframe tbody tr th {\n",
       "        vertical-align: top;\n",
       "    }\n",
       "\n",
       "    .dataframe thead th {\n",
       "        text-align: right;\n",
       "    }\n",
       "</style>\n",
       "<table border=\"1\" class=\"dataframe\">\n",
       "  <thead>\n",
       "    <tr style=\"text-align: right;\">\n",
       "      <th></th>\n",
       "      <th>Name</th>\n",
       "      <th>Reviews</th>\n",
       "      <th>Date</th>\n",
       "    </tr>\n",
       "  </thead>\n",
       "  <tbody>\n",
       "    <tr>\n",
       "      <th>0</th>\n",
       "      <td>Ken Tucker</td>\n",
       "      <td>The pleasure to be taken from 'Office' isn't m...</td>\n",
       "      <td>Jun 14, 2013</td>\n",
       "    </tr>\n",
       "    <tr>\n",
       "      <th>1</th>\n",
       "      <td>NaN</td>\n",
       "      <td>As ever, it's all in the details.</td>\n",
       "      <td>Jun 18, 2013</td>\n",
       "    </tr>\n",
       "    <tr>\n",
       "      <th>2</th>\n",
       "      <td>NaN</td>\n",
       "      <td>It takes a little while to get into it (episod...</td>\n",
       "      <td>Jul 25, 2013</td>\n",
       "    </tr>\n",
       "    <tr>\n",
       "      <th>3</th>\n",
       "      <td>Monica Collins</td>\n",
       "      <td>\"The Office\" makes you cringe in delight and h...</td>\n",
       "      <td>Jul 25, 2013</td>\n",
       "    </tr>\n",
       "    <tr>\n",
       "      <th>4</th>\n",
       "      <td>Matthew Gilbert</td>\n",
       "      <td>It is depressing, brilliant, hysterical, excru...</td>\n",
       "      <td>Jul 25, 2013</td>\n",
       "    </tr>\n",
       "  </tbody>\n",
       "</table>\n",
       "</div>"
      ],
      "text/plain": [
       "              Name                                            Reviews  \\\n",
       "0       Ken Tucker  The pleasure to be taken from 'Office' isn't m...   \n",
       "1              NaN                  As ever, it's all in the details.   \n",
       "2              NaN  It takes a little while to get into it (episod...   \n",
       "3   Monica Collins  \"The Office\" makes you cringe in delight and h...   \n",
       "4  Matthew Gilbert  It is depressing, brilliant, hysterical, excru...   \n",
       "\n",
       "           Date  \n",
       "0  Jun 14, 2013  \n",
       "1  Jun 18, 2013  \n",
       "2  Jul 25, 2013  \n",
       "3  Jul 25, 2013  \n",
       "4  Jul 25, 2013  "
      ]
     },
     "execution_count": 4,
     "metadata": {},
     "output_type": "execute_result"
    }
   ],
   "source": [
    "df = pd.read_csv(r'C:\\Users\\vatch\\Downloads\\archive (44)\\Small Reviews.csv')\n",
    "df.head()"
   ]
  },
  {
   "cell_type": "code",
   "execution_count": 5,
   "id": "dc4063fe-cc7a-4e2d-bd8e-c9886e28c91a",
   "metadata": {},
   "outputs": [],
   "source": [
    "df = df[['Reviews', 'Name']]       \n",
    "df.columns = ['text', 'label']     \n",
    "df.dropna(inplace=True)     "
   ]
  },
  {
   "cell_type": "code",
   "execution_count": 6,
   "id": "684eba8c-23a7-48ac-aff5-f3a7e5329e0d",
   "metadata": {},
   "outputs": [],
   "source": [
    "df['label'] = df['label'].map({'Positive': 1, 'Negative': 0})"
   ]
  },
  {
   "cell_type": "code",
   "execution_count": 7,
   "id": "0222f5bb-2642-4837-a094-ea0f2bb6fd35",
   "metadata": {},
   "outputs": [],
   "source": [
    "vocab_size = 10000\n",
    "max_length = 100\n",
    "oov_tok = \"<OOV>\"\n",
    "\n",
    "tokenizer = Tokenizer(num_words=vocab_size, oov_token=oov_tok)\n",
    "tokenizer.fit_on_texts(df['text'])\n",
    "\n",
    "sequences = tokenizer.texts_to_sequences(df['text'])\n",
    "padded = pad_sequences(sequences, maxlen=max_length, padding='post', truncating='post')\n"
   ]
  },
  {
   "cell_type": "code",
   "execution_count": 9,
   "id": "a91f3951-a646-4c1f-9751-e47a73a896f4",
   "metadata": {},
   "outputs": [
    {
     "name": "stderr",
     "output_type": "stream",
     "text": [
      "D:\\folder desktop\\ttttt\\env\\lib\\site-packages\\keras\\src\\layers\\core\\embedding.py:90: UserWarning: Argument `input_length` is deprecated. Just remove it.\n",
      "  warnings.warn(\n"
     ]
    }
   ],
   "source": [
    "X_train, X_test, y_train, y_test = train_test_split(padded, df['label'], test_size=0.2, random_state=42)\n",
    "\n",
    "model = Sequential([\n",
    "    Embedding(vocab_size, 64, input_length=max_length),\n",
    "    GRU(64),\n",
    "    Dense(1, activation='sigmoid')\n",
    "])"
   ]
  },
  {
   "cell_type": "code",
   "execution_count": 10,
   "id": "5f467ca6-9f6c-4cb0-87f9-569a2fa2ade9",
   "metadata": {},
   "outputs": [
    {
     "name": "stdout",
     "output_type": "stream",
     "text": [
      "Epoch 1/5\n",
      "2/2 - 3s - 1s/step - accuracy: 0.0000e+00 - loss: nan - val_accuracy: 0.0000e+00 - val_loss: nan\n",
      "Epoch 2/5\n",
      "2/2 - 0s - 81ms/step - accuracy: 0.0000e+00 - loss: nan - val_accuracy: 0.0000e+00 - val_loss: nan\n",
      "Epoch 3/5\n",
      "2/2 - 0s - 84ms/step - accuracy: 0.0000e+00 - loss: nan - val_accuracy: 0.0000e+00 - val_loss: nan\n",
      "Epoch 4/5\n",
      "2/2 - 0s - 85ms/step - accuracy: 0.0000e+00 - loss: nan - val_accuracy: 0.0000e+00 - val_loss: nan\n",
      "Epoch 5/5\n",
      "2/2 - 0s - 86ms/step - accuracy: 0.0000e+00 - loss: nan - val_accuracy: 0.0000e+00 - val_loss: nan\n",
      "\n",
      "🔹 Test Accuracy: 0.0000\n"
     ]
    }
   ],
   "source": [
    "model.compile(loss='binary_crossentropy', optimizer='adam', metrics=['accuracy'])\n",
    "history = model.fit(X_train, y_train, epochs=5, validation_data=(X_test, y_test), verbose=2)\n",
    "loss, accuracy = model.evaluate(X_test, y_test, verbose=0)\n",
    "print(f\"\\n🔹 Test Accuracy: {accuracy:.4f}\")"
   ]
  },
  {
   "cell_type": "code",
   "execution_count": 11,
   "id": "da68a63b-10cb-44ca-b878-f455776e61da",
   "metadata": {},
   "outputs": [
    {
     "name": "stdout",
     "output_type": "stream",
     "text": [
      "\u001b[1m1/1\u001b[0m \u001b[32m━━━━━━━━━━━━━━━━━━━━\u001b[0m\u001b[37m\u001b[0m \u001b[1m0s\u001b[0m 272ms/step\n",
      "\n",
      "📌 Sample Predictions:\n",
      "\n",
      "Review: It takes a real artist's eye to concentrate reality so realistically, and a true wit to pull it off in a sitcom that makes you gasp as frequently as it makes you laugh. [10 Oct 2003]\n",
      "Actual Sentiment: Negative\n",
      "Predicted Sentiment: Negative\n",
      "\n",
      "Review: A masterful series finale. [21 Oct 2004]\n",
      "Actual Sentiment: Negative\n",
      "Predicted Sentiment: Negative\n",
      "\n",
      "Review: Whether it's Brent's starry-eyed foppishness, Dawn's artistic daydreams or Gareth's organizational stiffness, these are characters we don't see on American TV. They're not accomplished, clever or distinctive. But they're so well-observed, and so subtly personified, that it's as if we're finding amusement in people we know. [21 Oct 2004]\n",
      "Actual Sentiment: Negative\n",
      "Predicted Sentiment: Negative\n",
      "\n",
      "Review: It's dependent almost entirely on characters rather than plot - but, with such recognizable characters, \"The Office\" works beautifully. [10 Oct 2003]\n",
      "Actual Sentiment: Negative\n",
      "Predicted Sentiment: Negative\n",
      "\n",
      "Review: \"The Office\" is hilarious, but it is an acquired taste as it serves up comedy of the uncomfortable. [10 Oct 2003]\n",
      "Actual Sentiment: Negative\n",
      "Predicted Sentiment: Negative\n"
     ]
    }
   ],
   "source": [
    "predictions = model.predict(X_test)\n",
    "predicted_labels = (predictions > 0.5).astype(int).flatten()\n",
    "\n",
    "print(\"\\n📌 Sample Predictions:\")\n",
    "for i in range(5):\n",
    "    idx = y_test.index[i]\n",
    "    print(f\"\\nReview: {df['text'].iloc[idx]}\")\n",
    "    print(f\"Actual Sentiment: {'Positive' if y_test.iloc[i] == 1 else 'Negative'}\")\n",
    "    print(f\"Predicted Sentiment: {'Positive' if predicted_labels[i] == 1 else 'Negative'}\")"
   ]
  },
  {
   "cell_type": "code",
   "execution_count": null,
   "id": "619241d1-e6e5-42b5-a631-ee0ab2fcbb23",
   "metadata": {},
   "outputs": [],
   "source": []
  }
 ],
 "metadata": {
  "kernelspec": {
   "display_name": "Python 3 (ipykernel)",
   "language": "python",
   "name": "python3"
  },
  "language_info": {
   "codemirror_mode": {
    "name": "ipython",
    "version": 3
   },
   "file_extension": ".py",
   "mimetype": "text/x-python",
   "name": "python",
   "nbconvert_exporter": "python",
   "pygments_lexer": "ipython3",
   "version": "3.10.11"
  }
 },
 "nbformat": 4,
 "nbformat_minor": 5
}
