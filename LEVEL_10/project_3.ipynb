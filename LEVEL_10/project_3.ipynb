{
 "cells": [
  {
   "cell_type": "code",
   "execution_count": null,
   "id": "e38f493a-ca5b-48d2-bb7a-e94113654251",
   "metadata": {},
   "outputs": [],
   "source": [
    "import pandas as pd\n",
    "import numpy as np\n",
    "import seaborn as sns\n",
    "import matplotlib.pyplot as plt\n",
    "from scipy import stats\n",
    "\n"
   ]
  },
  {
   "cell_type": "code",
   "execution_count": null,
   "id": "791384b0-1779-4beb-8a63-c636c9acacb4",
   "metadata": {},
   "outputs": [],
   "source": [
    "data = pd.read_csv('Amazon Sale Report.csv')\n",
    "data.head()"
   ]
  },
  {
   "cell_type": "code",
   "execution_count": null,
   "id": "8879edf1-4ec0-4d7b-bcac-0c0d8831c783",
   "metadata": {},
   "outputs": [],
   "source": [
    "data.info()"
   ]
  },
  {
   "cell_type": "code",
   "execution_count": null,
   "id": "a0afbc70-46c0-4f1f-9e15-fb17182945dd",
   "metadata": {},
   "outputs": [],
   "source": [
    "print(data.columns)"
   ]
  },
  {
   "cell_type": "code",
   "execution_count": null,
   "id": "d65376b4-fc93-4e60-b978-d360b23b792f",
   "metadata": {},
   "outputs": [],
   "source": [
    "print(data.columns)\n",
    "data = data[['ship-city', 'Amount']].dropna()\n",
    "data['Amount'] = pd.to_numeric(data['Amount'], errors='coerce')\n",
    "data = data.dropna()\n",
    "data.head()\n"
   ]
  },
  {
   "cell_type": "code",
   "execution_count": null,
   "id": "100a98fe-5e98-4501-abc3-da7e11d0958e",
   "metadata": {},
   "outputs": [],
   "source": [
    "group_A = data[data['ship-city'] == 'ship-city A']['Amount']\n",
    "group_B = data[data['ship-city'] == 'ship-city B']['Amount']\n"
   ]
  },
  {
   "cell_type": "code",
   "execution_count": null,
   "id": "0ef07efc-aa1e-4d3a-84be-d057b72afe77",
   "metadata": {},
   "outputs": [],
   "source": [
    "t_stat, p_value = stats.ttest_ind(group_A, group_B, equal_var=False)\n",
    "if p_value < 0.05:\n",
    "    print(f\"p-value: {p_value:.4f}, reject the null hypothesis. Significant difference exists between groups.\")\n",
    "else:\n",
    "    print(f\"p-value: {p_value:.4f}, fail to reject the null hypothesis. No significant difference between groups.\")\n"
   ]
  },
  {
   "cell_type": "code",
   "execution_count": 1,
   "id": "2849b556-6792-41a0-967d-637616ee9dbe",
   "metadata": {},
   "outputs": [
    {
     "ename": "NameError",
     "evalue": "name 'plt' is not defined",
     "output_type": "error",
     "traceback": [
      "\u001b[1;31m---------------------------------------------------------------------------\u001b[0m",
      "\u001b[1;31mNameError\u001b[0m                                 Traceback (most recent call last)",
      "Cell \u001b[1;32mIn[1], line 1\u001b[0m\n\u001b[1;32m----> 1\u001b[0m plt\u001b[38;5;241m.\u001b[39mfigure(figsize\u001b[38;5;241m=\u001b[39m(\u001b[38;5;241m8\u001b[39m, \u001b[38;5;241m5\u001b[39m))\n\u001b[0;32m      2\u001b[0m sns\u001b[38;5;241m.\u001b[39mboxplot(x\u001b[38;5;241m=\u001b[39m\u001b[38;5;124m'\u001b[39m\u001b[38;5;124mship-city\u001b[39m\u001b[38;5;124m'\u001b[39m, y\u001b[38;5;241m=\u001b[39m\u001b[38;5;124m'\u001b[39m\u001b[38;5;124mAmount\u001b[39m\u001b[38;5;124m'\u001b[39m, data\u001b[38;5;241m=\u001b[39mdata, palette\u001b[38;5;241m=\u001b[39m\u001b[38;5;124m'\u001b[39m\u001b[38;5;124mpastel\u001b[39m\u001b[38;5;124m'\u001b[39m)\n\u001b[0;32m      3\u001b[0m plt\u001b[38;5;241m.\u001b[39mtitle(\u001b[38;5;124m'\u001b[39m\u001b[38;5;124mAmount Comparison by Region\u001b[39m\u001b[38;5;124m'\u001b[39m)\n",
      "\u001b[1;31mNameError\u001b[0m: name 'plt' is not defined"
     ]
    }
   ],
   "source": [
    "plt.figure(figsize=(8, 5))\n",
    "sns.boxplot(x='ship-city', y='Amount', data=data, palette='pastel')\n",
    "plt.title('Amount Comparison by Region')\n",
    "plt.xlabel('ship-city')\n",
    "plt.ylabel('Amount')\n",
    "plt.show()\n"
   ]
  },
  {
   "cell_type": "code",
   "execution_count": null,
   "id": "41d6ef4f-8bd0-4db0-bb72-9ea39bfa49cd",
   "metadata": {},
   "outputs": [],
   "source": []
  },
  {
   "cell_type": "code",
   "execution_count": null,
   "id": "431b443c-331e-40a9-86cf-bc2bafdcbe5c",
   "metadata": {},
   "outputs": [],
   "source": [
    "import pandas as pd\n",
    "import numpy as np\n",
    "import seaborn as sns\n",
    "import matplotlib.pyplot as plt\n",
    "from scipy import stats\n",
    "data = pd.read_csv('Amazon Sale Report.csv')\n",
    "data.head()\n",
    "print(data.columns)\n",
    "data = data[['ship-city', 'Amount']].dropna()\n",
    "data['Amount'] = pd.to_numeric(data['Amount'], errors='coerce')\n",
    "data = data.dropna()\n",
    "data.head()\n",
    "group_A = data[data['ship-city'] == 'city A']['Amount']\n",
    "group_B = data[data['ship-city'] == 'city B']['Amount']\n",
    "t_stat, p_value = stats.ttest_ind(group_A, group_B, equal_var=False)\n",
    "if p_value < 0.05:\n",
    "    print(f\"p-value: {p_value:.4f}, reject the null hypothesis. Significant difference exists between groups.\")\n",
    "else:\n",
    "    print(f\"p-value: {p_value:.4f}, fail to reject the null hypothesis. No significant difference between groups.\")\n",
    "plt.figure(figsize=(8, 5))\n",
    "sns.boxplot(x='ship-city', y='Amount', data=data, hue='ship-city',palette='pastel')\n",
    "\n",
    "plt.title('Amount Comparison by Region')\n",
    "plt.xlabel('ship-city')\n",
    "plt.ylabel('Amount')\n",
    "plt.show()\n"
   ]
  },
  {
   "cell_type": "code",
   "execution_count": null,
   "id": "b7ad2521-ee4d-4b4a-96bd-9c51dfda3886",
   "metadata": {},
   "outputs": [],
   "source": []
  },
  {
   "cell_type": "code",
   "execution_count": null,
   "id": "52fcbe15-b1dd-4c30-aa99-71b77bdf7751",
   "metadata": {},
   "outputs": [],
   "source": []
  },
  {
   "cell_type": "code",
   "execution_count": null,
   "id": "f21fe715-e407-4ab5-aadf-00c1410991ca",
   "metadata": {},
   "outputs": [],
   "source": []
  },
  {
   "cell_type": "code",
   "execution_count": null,
   "id": "33400ee7-61ea-4788-9d4c-71a9af2e53a2",
   "metadata": {},
   "outputs": [],
   "source": []
  },
  {
   "cell_type": "code",
   "execution_count": null,
   "id": "e23e1e6f-28ba-4f37-84af-49d7c627788f",
   "metadata": {},
   "outputs": [],
   "source": []
  },
  {
   "cell_type": "code",
   "execution_count": null,
   "id": "f6f11a0d-00e9-491d-b9e2-42c74d0778ca",
   "metadata": {},
   "outputs": [],
   "source": []
  },
  {
   "cell_type": "code",
   "execution_count": null,
   "id": "fdf7d23d-6838-4999-9bd1-a90f28d5b1dd",
   "metadata": {},
   "outputs": [],
   "source": []
  },
  {
   "cell_type": "code",
   "execution_count": null,
   "id": "375dde16-f386-4c52-b20a-f59848d9a5c1",
   "metadata": {},
   "outputs": [],
   "source": []
  }
 ],
 "metadata": {
  "kernelspec": {
   "display_name": "Python 3 (ipykernel)",
   "language": "python",
   "name": "python3"
  },
  "language_info": {
   "codemirror_mode": {
    "name": "ipython",
    "version": 3
   },
   "file_extension": ".py",
   "mimetype": "text/x-python",
   "name": "python",
   "nbconvert_exporter": "python",
   "pygments_lexer": "ipython3",
   "version": "3.12.4"
  }
 },
 "nbformat": 4,
 "nbformat_minor": 5
}
