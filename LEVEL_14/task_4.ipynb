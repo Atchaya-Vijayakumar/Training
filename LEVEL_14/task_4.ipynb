{
 "cells": [
  {
   "cell_type": "code",
   "execution_count": 18,
   "id": "bce4c665-1274-4627-b534-143e14a8ea57",
   "metadata": {},
   "outputs": [],
   "source": [
    "import pandas as pd\n",
    "import numpy as np\n",
    "import matplotlib.pyplot as plt\n",
    "import seaborn as sns\n",
    "from sklearn.model_selection import train_test_split\n",
    "from sklearn.preprocessing import StandardScaler\n",
    "from sklearn.svm import SVC\n",
    "from sklearn.impute import SimpleImputer\n",
    "from sklearn.metrics import accuracy_score, confusion_matrix, classification_report"
   ]
  },
  {
   "cell_type": "code",
   "execution_count": 19,
   "id": "60b03b12-8d5d-41df-8267-1a89e57dce2c",
   "metadata": {},
   "outputs": [
    {
     "name": "stdout",
     "output_type": "stream",
     "text": [
      "Shape: (699, 11)\n"
     ]
    },
    {
     "data": {
      "text/html": [
       "<div>\n",
       "<style scoped>\n",
       "    .dataframe tbody tr th:only-of-type {\n",
       "        vertical-align: middle;\n",
       "    }\n",
       "\n",
       "    .dataframe tbody tr th {\n",
       "        vertical-align: top;\n",
       "    }\n",
       "\n",
       "    .dataframe thead th {\n",
       "        text-align: right;\n",
       "    }\n",
       "</style>\n",
       "<table border=\"1\" class=\"dataframe\">\n",
       "  <thead>\n",
       "    <tr style=\"text-align: right;\">\n",
       "      <th></th>\n",
       "      <th>id</th>\n",
       "      <th>clump_thickness</th>\n",
       "      <th>size_uniformity</th>\n",
       "      <th>shape_uniformity</th>\n",
       "      <th>marginal_adhesion</th>\n",
       "      <th>epithelial_size</th>\n",
       "      <th>bare_nucleoli</th>\n",
       "      <th>bland_chromatin</th>\n",
       "      <th>normal_nucleoli</th>\n",
       "      <th>mitoses</th>\n",
       "      <th>class</th>\n",
       "    </tr>\n",
       "  </thead>\n",
       "  <tbody>\n",
       "    <tr>\n",
       "      <th>0</th>\n",
       "      <td>1000025</td>\n",
       "      <td>5</td>\n",
       "      <td>1</td>\n",
       "      <td>1</td>\n",
       "      <td>1</td>\n",
       "      <td>2</td>\n",
       "      <td>1</td>\n",
       "      <td>3</td>\n",
       "      <td>1</td>\n",
       "      <td>1</td>\n",
       "      <td>2</td>\n",
       "    </tr>\n",
       "    <tr>\n",
       "      <th>1</th>\n",
       "      <td>1002945</td>\n",
       "      <td>5</td>\n",
       "      <td>4</td>\n",
       "      <td>4</td>\n",
       "      <td>5</td>\n",
       "      <td>7</td>\n",
       "      <td>10</td>\n",
       "      <td>3</td>\n",
       "      <td>2</td>\n",
       "      <td>1</td>\n",
       "      <td>2</td>\n",
       "    </tr>\n",
       "    <tr>\n",
       "      <th>2</th>\n",
       "      <td>1015425</td>\n",
       "      <td>3</td>\n",
       "      <td>1</td>\n",
       "      <td>1</td>\n",
       "      <td>1</td>\n",
       "      <td>2</td>\n",
       "      <td>2</td>\n",
       "      <td>3</td>\n",
       "      <td>1</td>\n",
       "      <td>1</td>\n",
       "      <td>2</td>\n",
       "    </tr>\n",
       "    <tr>\n",
       "      <th>3</th>\n",
       "      <td>1016277</td>\n",
       "      <td>6</td>\n",
       "      <td>8</td>\n",
       "      <td>8</td>\n",
       "      <td>1</td>\n",
       "      <td>3</td>\n",
       "      <td>4</td>\n",
       "      <td>3</td>\n",
       "      <td>7</td>\n",
       "      <td>1</td>\n",
       "      <td>2</td>\n",
       "    </tr>\n",
       "    <tr>\n",
       "      <th>4</th>\n",
       "      <td>1017023</td>\n",
       "      <td>4</td>\n",
       "      <td>1</td>\n",
       "      <td>1</td>\n",
       "      <td>3</td>\n",
       "      <td>2</td>\n",
       "      <td>1</td>\n",
       "      <td>3</td>\n",
       "      <td>1</td>\n",
       "      <td>1</td>\n",
       "      <td>2</td>\n",
       "    </tr>\n",
       "  </tbody>\n",
       "</table>\n",
       "</div>"
      ],
      "text/plain": [
       "        id  clump_thickness  size_uniformity  shape_uniformity  \\\n",
       "0  1000025                5                1                 1   \n",
       "1  1002945                5                4                 4   \n",
       "2  1015425                3                1                 1   \n",
       "3  1016277                6                8                 8   \n",
       "4  1017023                4                1                 1   \n",
       "\n",
       "   marginal_adhesion  epithelial_size bare_nucleoli  bland_chromatin  \\\n",
       "0                  1                2             1                3   \n",
       "1                  5                7            10                3   \n",
       "2                  1                2             2                3   \n",
       "3                  1                3             4                3   \n",
       "4                  3                2             1                3   \n",
       "\n",
       "   normal_nucleoli  mitoses  class  \n",
       "0                1        1      2  \n",
       "1                2        1      2  \n",
       "2                1        1      2  \n",
       "3                7        1      2  \n",
       "4                1        1      2  "
      ]
     },
     "execution_count": 19,
     "metadata": {},
     "output_type": "execute_result"
    }
   ],
   "source": [
    "df = pd.read_csv(\"breastCancer.csv\")\n",
    "print(\"Shape:\", df.shape)\n",
    "df.head()"
   ]
  },
  {
   "cell_type": "code",
   "execution_count": 20,
   "id": "ef7aa261-08c3-43d7-af01-a21a157718c3",
   "metadata": {},
   "outputs": [],
   "source": [
    "if 'id' in df.columns:\n",
    "    df = df.drop(columns='id')\n"
   ]
  },
  {
   "cell_type": "code",
   "execution_count": 21,
   "id": "74a2ff8c-ae54-44c7-8ed7-eed269d37f5c",
   "metadata": {},
   "outputs": [],
   "source": [
    "df = df.dropna()\n"
   ]
  },
  {
   "cell_type": "code",
   "execution_count": 22,
   "id": "6da0eea0-6445-467f-8e60-540fdb42f9e6",
   "metadata": {},
   "outputs": [],
   "source": [
    "if df['class'].dtype == '0':\n",
    "    df['class'] = df['class'].map({2: 0, 4: 1})  # or check your dataset values\n",
    "X = df.drop(columns='class')\n",
    "y = df['class']\n",
    "\n"
   ]
  },
  {
   "cell_type": "code",
   "execution_count": 23,
   "id": "339f3ddf-d1a5-4142-be06-5a84e65ea7eb",
   "metadata": {},
   "outputs": [],
   "source": [
    "X.replace('?', np.nan, inplace=True)\n",
    "X = X.apply(pd.to_numeric, errors='coerce')\n",
    "imputer = SimpleImputer(strategy='mean')\n",
    "X_imputed = imputer.fit_transform(X)\n"
   ]
  },
  {
   "cell_type": "code",
   "execution_count": 24,
   "id": "ff172e23-0d8a-4070-9cb6-13bc08cbfa7b",
   "metadata": {},
   "outputs": [],
   "source": [
    "scaler = StandardScaler()\n",
    "X_scaled = scaler.fit_transform(X)"
   ]
  },
  {
   "cell_type": "code",
   "execution_count": 10,
   "id": "872491b4-59ae-4a51-b6ae-1456141d33e1",
   "metadata": {},
   "outputs": [
    {
     "name": "stdout",
     "output_type": "stream",
     "text": [
      "Index(['clump_thickness', 'size_uniformity', 'shape_uniformity',\n",
      "       'marginal_adhesion', 'epithelial_size', 'bare_nucleoli',\n",
      "       'bland_chromatin', 'normal_nucleoli', 'mitoses', 'class'],\n",
      "      dtype='object')\n"
     ]
    }
   ],
   "source": [
    "print(df.columns)\n"
   ]
  },
  {
   "cell_type": "code",
   "execution_count": 26,
   "id": "8b5690fd-5461-442d-bc89-5a7f85392976",
   "metadata": {},
   "outputs": [
    {
     "name": "stdout",
     "output_type": "stream",
     "text": [
      "[[ 0.20693572 -0.37204831 -0.74329904 ... -0.17966213 -0.61182504\n",
      "  -0.34391178]\n",
      " [ 0.20693572 -0.04410156 -0.06984988 ... -0.17966213  0.37131451\n",
      "  -0.34391178]\n",
      " [-1.2146669  -0.69999505 -0.74329904 ... -0.17966213 -0.61182504\n",
      "  -0.34391178]\n",
      " ...\n",
      " [ 1.27313768  0.28384518  1.27704844 ... -0.17966213  2.00988041\n",
      "   0.23956962]\n",
      " [ 1.983939    1.59563215  2.28722218 ...  0.64114721 -0.61182504\n",
      "  -0.34391178]\n",
      " [-0.14846494 -0.69999505 -0.40657446 ... -0.17966213 -0.61182504\n",
      "  -0.34391178]] [[-1.2146669  -0.69999505 -0.40657446 ... -1.00047147 -0.61182504\n",
      "  -0.34391178]\n",
      " [-0.14846494 -0.69999505 -0.74329904 ... -0.5900668  -0.61182504\n",
      "  -0.34391178]\n",
      " [-0.50386559 -0.69999505 -0.74329904 ... -0.17966213 -0.61182504\n",
      "  -0.34391178]\n",
      " ...\n",
      " [ 0.20693572 -0.69999505 -0.74329904 ... -0.17966213 -0.28411186\n",
      "  -0.34391178]\n",
      " [-0.85926625 -0.69999505 -0.74329904 ... -0.17966213 -0.61182504\n",
      "  -0.34391178]\n",
      " [-1.2146669  -0.04410156 -0.74329904 ...  0.64114721  0.04360132\n",
      "   0.23956962]] 82     2\n",
      "51     4\n",
      "220    2\n",
      "559    2\n",
      "544    2\n",
      "      ..\n",
      "71     4\n",
      "106    4\n",
      "270    4\n",
      "435    4\n",
      "102    2\n",
      "Name: class, Length: 559, dtype: int64 158    2\n",
      "499    2\n",
      "396    2\n",
      "155    4\n",
      "321    2\n",
      "      ..\n",
      "24     2\n",
      "218    4\n",
      "431    2\n",
      "281    2\n",
      "110    2\n",
      "Name: class, Length: 140, dtype: int64\n"
     ]
    }
   ],
   "source": [
    "X_train, X_test, y_train, y_test = train_test_split(X_scaled, y, test_size=0.2, random_state=42)\n",
    "print(X_train, X_test, y_train, y_test)"
   ]
  },
  {
   "cell_type": "code",
   "execution_count": 29,
   "id": "943c22fc-3af7-4a2d-b5f9-937f684801e7",
   "metadata": {},
   "outputs": [],
   "source": [
    "imputer = SimpleImputer(strategy='mean')  # Replace NaNs with column mean\n"
   ]
  },
  {
   "cell_type": "code",
   "execution_count": 33,
   "id": "0102ffb5-a167-4656-9f8b-fac3229436fc",
   "metadata": {},
   "outputs": [
    {
     "name": "stdout",
     "output_type": "stream",
     "text": [
      "[[ 0.20693572 -0.37204831 -0.74329904 ... -0.17966213 -0.61182504\n",
      "  -0.34391178]\n",
      " [ 0.20693572 -0.04410156 -0.06984988 ... -0.17966213  0.37131451\n",
      "  -0.34391178]\n",
      " [-1.2146669  -0.69999505 -0.74329904 ... -0.17966213 -0.61182504\n",
      "  -0.34391178]\n",
      " ...\n",
      " [ 1.27313768  0.28384518  1.27704844 ... -0.17966213  2.00988041\n",
      "   0.23956962]\n",
      " [ 1.983939    1.59563215  2.28722218 ...  0.64114721 -0.61182504\n",
      "  -0.34391178]\n",
      " [-0.14846494 -0.69999505 -0.40657446 ... -0.17966213 -0.61182504\n",
      "  -0.34391178]]\n",
      "[[-1.2146669  -0.69999505 -0.40657446 ... -1.00047147 -0.61182504\n",
      "  -0.34391178]\n",
      " [-0.14846494 -0.69999505 -0.74329904 ... -0.5900668  -0.61182504\n",
      "  -0.34391178]\n",
      " [-0.50386559 -0.69999505 -0.74329904 ... -0.17966213 -0.61182504\n",
      "  -0.34391178]\n",
      " ...\n",
      " [ 0.20693572 -0.69999505 -0.74329904 ... -0.17966213 -0.28411186\n",
      "  -0.34391178]\n",
      " [-0.85926625 -0.69999505 -0.74329904 ... -0.17966213 -0.61182504\n",
      "  -0.34391178]\n",
      " [-1.2146669  -0.04410156 -0.74329904 ...  0.64114721  0.04360132\n",
      "   0.23956962]]\n"
     ]
    }
   ],
   "source": [
    "X_train = imputer.fit_transform(X_train)\n",
    "X_test = imputer.transform(X_test)\n",
    "print(X_train)\n",
    "print(X_test)"
   ]
  },
  {
   "cell_type": "code",
   "execution_count": 34,
   "id": "a37ca27d-0166-468c-9b1f-26930ba3d4b1",
   "metadata": {},
   "outputs": [
    {
     "name": "stdout",
     "output_type": "stream",
     "text": [
      "Accuracy (Linear SVC): 0.9714285714285714\n",
      "y_pred_linear: [2 2 2 4 2 2 2 4 4 2 2 4 2 2 2 4 2 4 4 4 4 2 4 2 4 2 2 4 2 4 2 2 2 4 2 2 2\n",
      " 4 2 4 2 2 4 2 2 2 2 2 2 2 2 2 4 2 2 2 2 4 2 2 2 2 4 2 2 2 4 4 2 2 4 2 4 2\n",
      " 2 2 2 4 2 2 2 2 2 2 2 4 4 2 2 2 2 2 4 2 2 4 2 2 2 2 2 2 2 4 4 2 4 2 2 4 4\n",
      " 2 2 2 2 4 2 2 2 2 2 4 2 2 4 4 2 2 4 4 2 2 4 2 4 2 4 2 2 2]\n"
     ]
    }
   ],
   "source": [
    "svc_linear = SVC(kernel='linear', random_state=42)\n",
    "svc_linear.fit(X_train, y_train)\n",
    "y_pred_linear = svc_linear.predict(X_test)\n",
    "\n",
    "acc_linear = accuracy_score(y_test, y_pred_linear)\n",
    "print(f\"Accuracy (Linear SVC): {acc_linear}\")\n",
    "print(f\"y_pred_linear: {y_pred_linear}\")"
   ]
  },
  {
   "cell_type": "code",
   "execution_count": 35,
   "id": "65778fa2-e632-40bb-88e1-99a9e7ea243c",
   "metadata": {},
   "outputs": [],
   "source": [
    "svc_rbf = SVC(kernel='rbf', random_state=42)\n",
    "svc_rbf.fit(X_train, y_train)\n",
    "y_pred_rbf = svc_rbf.predict(X_test)\n",
    "acc_rbf = accuracy_score(y_test, y_pred_rbf)"
   ]
  },
  {
   "cell_type": "code",
   "execution_count": 38,
   "id": "44af14b7-f56c-4be2-93de-8a3d2bcaa729",
   "metadata": {},
   "outputs": [
    {
     "name": "stdout",
     "output_type": "stream",
     "text": [
      "acc_rbf: 0.9714285714285714\n"
     ]
    }
   ],
   "source": [
    "print(f\"acc_rbf: {acc_rbf}\")"
   ]
  },
  {
   "cell_type": "code",
   "execution_count": 39,
   "id": "4e165b6e-8c6a-4d11-a052-4acc804d3716",
   "metadata": {},
   "outputs": [
    {
     "data": {
      "image/png": "[encoded data removed]",
      "text/plain": [
       "<Figure size 600x400 with 2 Axes>"
      ]
     },
     "metadata": {},
     "output_type": "display_data"
    }
   ],
   "source": [
    "cm = confusion_matrix(y_test, y_pred_rbf)\n",
    "plt.figure(figsize=(6, 4))\n",
    "sns.heatmap(cm, annot=True, fmt='d', cmap='Blues', xticklabels=[\"Benign\", \"Malignant\"], yticklabels=[\"Benign\", \"Malignant\"])\n",
    "plt.xlabel('Predicted')\n",
    "plt.ylabel('Actual')\n",
    "plt.title('Confusion Matrix (RBF Kernel)')\n",
    "plt.tight_layout()\n",
    "plt.show()\n"
   ]
  },
  {
   "cell_type": "code",
   "execution_count": 40,
   "id": "6e5df932-6fac-4de4-a2ec-edde98c8b2d1",
   "metadata": {},
   "outputs": [
    {
     "name": "stdout",
     "output_type": "stream",
     "text": [
      "🔹 Accuracy (Linear Kernel): 0.97\n",
      "🔹 Accuracy (RBF Kernel): 0.97\n",
      "ℹ️ Linear kernel was sufficient; no significant non-linear patterns were found.\n"
     ]
    }
   ],
   "source": [
    "print(f\"🔹 Accuracy (Linear Kernel): {acc_linear:.2f}\")\n",
    "print(f\"🔹 Accuracy (RBF Kernel): {acc_rbf:.2f}\")\n",
    "if acc_rbf > acc_linear:\n",
    "    print(\"✅ RBF kernel performed better, capturing non-linear patterns in the data.\")\n",
    "else:\n",
    "    print(\"ℹ️ Linear kernel was sufficient; no significant non-linear patterns were found.\")"
   ]
  },
  {
   "cell_type": "code",
   "execution_count": null,
   "id": "dd6b3464-54f9-40f1-aadf-673351f2b007",
   "metadata": {},
   "outputs": [],
   "source": []
  }
 ],
 "metadata": {
  "kernelspec": {
   "display_name": "Python 3 (ipykernel)",
   "language": "python",
   "name": "python3"
  },
  "language_info": {
   "codemirror_mode": {
    "name": "ipython",
    "version": 3
   },
   "file_extension": ".py",
   "mimetype": "text/x-python",
   "name": "python",
   "nbconvert_exporter": "python",
   "pygments_lexer": "ipython3",
   "version": "3.12.4"
  }
 },
 "nbformat": 4,
 "nbformat_minor": 5
}
