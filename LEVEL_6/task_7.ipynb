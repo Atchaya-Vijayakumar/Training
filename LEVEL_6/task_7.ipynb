{
 "cells": [
  {
   "cell_type": "code",
   "execution_count": 1,
   "id": "71852ce4-8ebe-422c-825a-859a4f629788",
   "metadata": {},
   "outputs": [],
   "source": [
    "import numpy as np"
   ]
  },
  {
   "cell_type": "code",
   "execution_count": 2,
   "id": "b758dbe4-a177-4838-a607-feea54d001ba",
   "metadata": {},
   "outputs": [],
   "source": [
    "mean=50\n",
    "std_dev=10"
   ]
  },
  {
   "cell_type": "code",
   "execution_count": 3,
   "id": "d3cdf2f5-5a01-443c-a5d0-8f7ee878cfae",
   "metadata": {},
   "outputs": [],
   "source": [
    "x1=60\n",
    "x2=40"
   ]
  },
  {
   "cell_type": "code",
   "execution_count": 4,
   "id": "3346f7fc-3a0c-4a74-87de-621903128a1b",
   "metadata": {},
   "outputs": [
    {
     "name": "stdout",
     "output_type": "stream",
     "text": [
      "1.0\n",
      "-1.0\n",
      "Interpretation: z = 1 means 1 standard deviation above the mean, while z = -1 means 1 standard deviation below the mean.\n"
     ]
    }
   ],
   "source": [
    "x1=(x1-mean)/std_dev\n",
    "x2=(x2-mean)/std_dev\n",
    "print(x1)\n",
    "print(x2)\n",
    "print(\"Interpretation: z = 1 means 1 standard deviation above the mean, while z = -1 means 1 standard deviation below the mean.\")"
   ]
  },
  {
   "cell_type": "code",
   "execution_count": null,
   "id": "004463ca-6b50-44cf-b7da-5c264bf9216f",
   "metadata": {},
   "outputs": [],
   "source": []
  }
 ],
 "metadata": {
  "kernelspec": {
   "display_name": "Python 3 (ipykernel)",
   "language": "python",
   "name": "python3"
  },
  "language_info": {
   "codemirror_mode": {
    "name": "ipython",
    "version": 3
   },
   "file_extension": ".py",
   "mimetype": "text/x-python",
   "name": "python",
   "nbconvert_exporter": "python",
   "pygments_lexer": "ipython3",
   "version": "3.12.4"
  }
 },
 "nbformat": 4,
 "nbformat_minor": 5
}
