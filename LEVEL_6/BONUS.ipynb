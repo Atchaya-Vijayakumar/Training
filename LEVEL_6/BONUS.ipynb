{
 "cells": [
  {
   "cell_type": "code",
   "execution_count": 1,
   "id": "8d438ada-f59f-4b40-89d5-eca563eadf92",
   "metadata": {},
   "outputs": [
    {
     "name": "stdout",
     "output_type": "stream",
     "text": [
      "Q1 = 3.25\n",
      "Q3 = 7.75\n",
      "IQR = 4.5\n",
      "Lower fence = -3.5\n",
      "Upper fence = 14.5\n",
      "Outliers = [20]\n"
     ]
    }
   ],
   "source": [
    "import numpy as np\n",
    "data = [1, 2, 3, 4, 5, 6, 7, 8, 9, 20]\n",
    "data.sort()\n",
    "q1 = np.percentile(data, 25)\n",
    "q3 = np.percentile(data, 75)\n",
    "iqr = q3 - q1\n",
    "lower_fence = q1 - 1.5 * iqr\n",
    "upper_fence = q3 + 1.5 * iqr\n",
    "outliers = [x for x in data if x < lower_fence or x > upper_fence]\n",
    "print(f\"Q1 = {q1}\")\n",
    "print(f\"Q3 = {q3}\")\n",
    "print(f\"IQR = {iqr}\")\n",
    "print(f\"Lower fence = {lower_fence}\")\n",
    "print(f\"Upper fence = {upper_fence}\")\n",
    "print(f\"Outliers = {outliers}\")"
   ]
  },
  {
   "cell_type": "code",
   "execution_count": null,
   "id": "e459c26f-8f8a-4aa6-a0fb-ee72a6ba71b1",
   "metadata": {},
   "outputs": [],
   "source": []
  }
 ],
 "metadata": {
  "kernelspec": {
   "display_name": "Python 3 (ipykernel)",
   "language": "python",
   "name": "python3"
  },
  "language_info": {
   "codemirror_mode": {
    "name": "ipython",
    "version": 3
   },
   "file_extension": ".py",
   "mimetype": "text/x-python",
   "name": "python",
   "nbconvert_exporter": "python",
   "pygments_lexer": "ipython3",
   "version": "3.12.4"
  }
 },
 "nbformat": 4,
 "nbformat_minor": 5
}
