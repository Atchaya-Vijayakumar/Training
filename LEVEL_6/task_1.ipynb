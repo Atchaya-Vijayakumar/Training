{
 "cells": [
  {
   "cell_type": "code",
   "execution_count": 1,
   "id": "d24d5670-7726-4af8-ab1b-9d2cf1d992aa",
   "metadata": {},
   "outputs": [
    {
     "name": "stdout",
     "output_type": "stream",
     "text": [
      "Descriptive Statistics:\n",
      "Mean (Average) Score: 86.8\n",
      "Median Score: 88.5\n",
      "Standard Deviation: 5.78\n",
      "\n",
      "Inferential Statistics:\n",
      "Estimated Population Mean with 95% Confidence Interval: (82.44473544900322, 91.15526455099678)\n"
     ]
    }
   ],
   "source": [
    "import numpy as np\n",
    "import scipy.stats as stats\n",
    "data = [85, 90, 78, 92, 88, 76, 95, 89, 84, 91]\n",
    "mean_score = np.mean(data)  \n",
    "median_score = np.median(data)  \n",
    "std_dev = np.std(data)  \n",
    "print(f\"Descriptive Statistics:\")\n",
    "print(f\"Mean (Average) Score: {mean_score}\")\n",
    "print(f\"Median Score: {median_score}\")\n",
    "print(f\"Standard Deviation: {std_dev:.2f}\")\n",
    "confidence_level = 0.95\n",
    "n = len(data)\n",
    "mean_sample = np.mean(data)\n",
    "std_error = stats.sem(data)  \n",
    "confidence_interval = stats.t.interval(confidence_level, n-1, loc=mean_sample, scale=std_error)\n",
    "print(f\"\\nInferential Statistics:\")\n",
    "print(f\"Estimated Population Mean with 95% Confidence Interval: {confidence_interval}\")\n"
   ]
  },
  {
   "cell_type": "code",
   "execution_count": null,
   "id": "e84eee61-20b2-4698-956c-1c807baed480",
   "metadata": {},
   "outputs": [],
   "source": []
  }
 ],
 "metadata": {
  "kernelspec": {
   "display_name": "Python 3 (ipykernel)",
   "language": "python",
   "name": "python3"
  },
  "language_info": {
   "codemirror_mode": {
    "name": "ipython",
    "version": 3
   },
   "file_extension": ".py",
   "mimetype": "text/x-python",
   "name": "python",
   "nbconvert_exporter": "python",
   "pygments_lexer": "ipython3",
   "version": "3.12.4"
  }
 },
 "nbformat": 4,
 "nbformat_minor": 5
}
