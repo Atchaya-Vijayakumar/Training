{
 "cells": [
  {
   "cell_type": "code",
   "execution_count": 1,
   "id": "d30e3aae-36e0-4d42-b3bc-7a8fddb89ce9",
   "metadata": {},
   "outputs": [
    {
     "name": "stdout",
     "output_type": "stream",
     "text": [
      "Scenario: Survey employee satisfaction in a company with departments of varying sizes.\n",
      "Available Sampling Techniques: Simple random, Stratified, Systematic, Convenient\n",
      "Suggested Choice: Stratified sampling, because it ensures each department is fairly represented based on its size.\n"
     ]
    }
   ],
   "source": [
    "scenario = \"Survey employee satisfaction in a company with departments of varying sizes.\"\n",
    "sampling_techniques = [\"Simple random\", \"Stratified\", \"Systematic\", \"Convenient\"]\n",
    "chosen_technique = \"Stratified sampling\"\n",
    "justification = \"because it ensures each department is fairly represented based on its size.\"\n",
    "print(f\"Scenario: {scenario}\")\n",
    "print(f\"Available Sampling Techniques: {', '.join(sampling_techniques)}\")\n",
    "print(f\"Suggested Choice: {chosen_technique}, {justification}\")\n"
   ]
  },
  {
   "cell_type": "code",
   "execution_count": null,
   "id": "c21c43fb-b543-4fd6-8de4-642af04a5de4",
   "metadata": {},
   "outputs": [],
   "source": []
  }
 ],
 "metadata": {
  "kernelspec": {
   "display_name": "Python 3 (ipykernel)",
   "language": "python",
   "name": "python3"
  },
  "language_info": {
   "codemirror_mode": {
    "name": "ipython",
    "version": 3
   },
   "file_extension": ".py",
   "mimetype": "text/x-python",
   "name": "python",
   "nbconvert_exporter": "python",
   "pygments_lexer": "ipython3",
   "version": "3.12.4"
  }
 },
 "nbformat": 4,
 "nbformat_minor": 5
}
