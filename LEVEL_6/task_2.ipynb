{
 "cells": [
  {
   "cell_type": "code",
   "execution_count": 1,
   "id": "80496c1e-260b-4404-9a42-121ecde7cc3a",
   "metadata": {},
   "outputs": [
    {
     "name": "stdin",
     "output_type": "stream",
     "text": [
      "Enter the population of interest:  All families are in the city\n",
      "Enter the sample size:  100\n"
     ]
    },
    {
     "name": "stdout",
     "output_type": "stream",
     "text": [
      "Population: All families are in the city\n",
      "Sample: 100 surveyed households\n"
     ]
    }
   ],
   "source": [
    "population = input(\"Enter the population of interest: \")\n",
    "sample_size = int(input(\"Enter the sample size: \"))\n",
    "sample = f\"{sample_size} surveyed households\"\n",
    "print(f\"Population: {population}\")\n",
    "print(f\"Sample: {sample}\")"
   ]
  },
  {
   "cell_type": "code",
   "execution_count": null,
   "id": "4c6866b0-6cf4-4704-95d8-9b53ebab8102",
   "metadata": {},
   "outputs": [],
   "source": []
  }
 ],
 "metadata": {
  "kernelspec": {
   "display_name": "Python 3 (ipykernel)",
   "language": "python",
   "name": "python3"
  },
  "language_info": {
   "codemirror_mode": {
    "name": "ipython",
    "version": 3
   },
   "file_extension": ".py",
   "mimetype": "text/x-python",
   "name": "python",
   "nbconvert_exporter": "python",
   "pygments_lexer": "ipython3",
   "version": "3.12.4"
  }
 },
 "nbformat": 4,
 "nbformat_minor": 5
}
