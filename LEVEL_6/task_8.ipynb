{
 "cells": [
  {
   "cell_type": "code",
   "execution_count": 1,
   "id": "65c69af7-3998-45f4-aff1-8bef69f7c991",
   "metadata": {},
   "outputs": [
    {
     "name": "stdout",
     "output_type": "stream",
     "text": [
      "Approximately 68% of the data lies between 85 and 115.\n"
     ]
    }
   ],
   "source": [
    "mean=100\n",
    "std_dev=15\n",
    "lower_bound = mean - std_dev \n",
    "upper_bound = mean + std_dev\n",
    "print(f\"Approximately 68% of the data lies between {lower_bound} and {upper_bound}.\")"
   ]
  },
  {
   "cell_type": "code",
   "execution_count": null,
   "id": "2e31d2e7-0cfe-4f27-8f34-4d7ec47aee2c",
   "metadata": {},
   "outputs": [],
   "source": []
  }
 ],
 "metadata": {
  "kernelspec": {
   "display_name": "Python 3 (ipykernel)",
   "language": "python",
   "name": "python3"
  },
  "language_info": {
   "codemirror_mode": {
    "name": "ipython",
    "version": 3
   },
   "file_extension": ".py",
   "mimetype": "text/x-python",
   "name": "python",
   "nbconvert_exporter": "python",
   "pygments_lexer": "ipython3",
   "version": "3.12.4"
  }
 },
 "nbformat": 4,
 "nbformat_minor": 5
}
