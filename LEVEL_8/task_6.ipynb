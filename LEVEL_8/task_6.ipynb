{
 "cells": [
  {
   "cell_type": "code",
   "execution_count": 1,
   "id": "ca68f34c-b819-4876-8ccf-a1644a51b547",
   "metadata": {},
   "outputs": [],
   "source": [
    "import numpy as np"
   ]
  },
  {
   "cell_type": "code",
   "execution_count": 2,
   "id": "6993d6ad-a2af-4b88-b78a-09d876cd3986",
   "metadata": {},
   "outputs": [],
   "source": [
    "trials = np.random.binomial(n=1, p=0.3, size=1000)\n"
   ]
  },
  {
   "cell_type": "code",
   "execution_count": 3,
   "id": "3f42c524-b058-41ef-ab8a-3196de813c0e",
   "metadata": {},
   "outputs": [],
   "source": [
    "simulated_p = np.mean(trials)"
   ]
  },
  {
   "cell_type": "code",
   "execution_count": 4,
   "id": "678b8419-4936-40ca-863b-6aca03d8a530",
   "metadata": {},
   "outputs": [
    {
     "name": "stdout",
     "output_type": "stream",
     "text": [
      "Simulated P: 0.319\n",
      "Matches theoretical P = 0.3 for Bernoulli trial.\n"
     ]
    }
   ],
   "source": [
    "print(f\"Simulated P: {simulated_p:.3f}\")\n",
    "if abs(simulated_p - 0.3) < 0.05:\n",
    "    print(\"Matches theoretical P = 0.3 for Bernoulli trial.\")\n",
    "else:\n",
    "    print(\"Does not match theoretical P = 0.3.\")"
   ]
  },
  {
   "cell_type": "code",
   "execution_count": null,
   "id": "5986a68a-cd18-431b-a2fe-7c3cebb6d65b",
   "metadata": {},
   "outputs": [],
   "source": []
  }
 ],
 "metadata": {
  "kernelspec": {
   "display_name": "Python 3 (ipykernel)",
   "language": "python",
   "name": "python3"
  },
  "language_info": {
   "codemirror_mode": {
    "name": "ipython",
    "version": 3
   },
   "file_extension": ".py",
   "mimetype": "text/x-python",
   "name": "python",
   "nbconvert_exporter": "python",
   "pygments_lexer": "ipython3",
   "version": "3.12.4"
  }
 },
 "nbformat": 4,
 "nbformat_minor": 5
}
