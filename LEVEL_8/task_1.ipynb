{
 "cells": [
  {
   "cell_type": "code",
   "execution_count": 4,
   "id": "05389656-0c4a-4f08-92a6-39a1960f1fb7",
   "metadata": {},
   "outputs": [
    {
     "name": "stdout",
     "output_type": "stream",
     "text": [
      "Z-score: 14.97\n",
      "P-value: 0.0000\n",
      "Reject H₀; medication affects IQ, likely increasing it (mean = 140 > 100).\n"
     ]
    }
   ],
   "source": [
    "import numpy as np\n",
    "import statsmodels.stats.weightstats as st\n",
    "data = np.random.normal(140, 15, 30)\n",
    "z_score,p_value=st.ztest(data,value=100)\n",
    "alpha = 0.05\n",
    "if p_value < alpha:\n",
    "    result = \"Reject H₀; medication affects IQ, likely increasing it (mean = 140 > 100).\"\n",
    "else:\n",
    "    result = \"Fail to reject H₀; no evidence that medication affects IQ.\"\n",
    "print(f\"Z-score: {z_score:.2f}\")\n",
    "print(f\"P-value: {p_value:.4f}\")\n",
    "print(result)"
   ]
  },
  {
   "cell_type": "code",
   "execution_count": null,
   "id": "1d12d4f9-240b-4d7d-8bbe-d1ad1d92e2ab",
   "metadata": {},
   "outputs": [],
   "source": []
  }
 ],
 "metadata": {
  "kernelspec": {
   "display_name": "Python 3 (ipykernel)",
   "language": "python",
   "name": "python3"
  },
  "language_info": {
   "codemirror_mode": {
    "name": "ipython",
    "version": 3
   },
   "file_extension": ".py",
   "mimetype": "text/x-python",
   "name": "python",
   "nbconvert_exporter": "python",
   "pygments_lexer": "ipython3",
   "version": "3.12.4"
  }
 },
 "nbformat": 4,
 "nbformat_minor": 5
}
