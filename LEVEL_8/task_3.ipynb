{
 "cells": [
  {
   "cell_type": "code",
   "execution_count": 1,
   "id": "c475fdd0-fc54-4168-b979-40a92eecf15a",
   "metadata": {},
   "outputs": [],
   "source": [
    "from scipy import stats"
   ]
  },
  {
   "cell_type": "code",
   "execution_count": 2,
   "id": "73fc8f33-0e22-43d5-982e-aede1c7051f6",
   "metadata": {},
   "outputs": [
    {
     "name": "stdout",
     "output_type": "stream",
     "text": [
      "[121, 288, 91] [100.0, 150.0, 250.0]\n"
     ]
    }
   ],
   "source": [
    "observed_val=[121,288,91]\n",
    "expected_val=[500*0.2,500*0.3,500*0.5]\n",
    "print(observed_val,expected_val)"
   ]
  },
  {
   "cell_type": "code",
   "execution_count": 3,
   "id": "4833e76d-5617-451e-a8b8-2836f55cd3cd",
   "metadata": {},
   "outputs": [],
   "source": [
    "chi2_stat, p_value = stats.chisquare(observed_val, expected_val)"
   ]
  },
  {
   "cell_type": "code",
   "execution_count": 4,
   "id": "3b4ed9c3-de6e-47f1-9465-19d6b3b1340a",
   "metadata": {},
   "outputs": [
    {
     "name": "stdout",
     "output_type": "stream",
     "text": [
      "Chi-Square Statistic: 232.49\n",
      "P-Value: 0.00000\n"
     ]
    }
   ],
   "source": [
    "print(f\"Chi-Square Statistic: {chi2_stat:.2f}\")\n",
    "print(f\"P-Value: {p_value:.5f}\")"
   ]
  },
  {
   "cell_type": "code",
   "execution_count": 5,
   "id": "92ee66d8-f919-4ad4-96d3-6d51996fd76a",
   "metadata": {},
   "outputs": [
    {
     "name": "stdout",
     "output_type": "stream",
     "text": [
      "Reject H₀; age distribution changed.\n"
     ]
    }
   ],
   "source": [
    "if p_value < 0.05:\n",
    "    print(\"Reject H₀; age distribution changed.\")\n",
    "else:\n",
    "    print(\"Fail to reject H₀; no significant change in age distribution.\")"
   ]
  },
  {
   "cell_type": "code",
   "execution_count": null,
   "id": "e1f5e6ce-360e-4d57-8bb6-81f33cb5d5ad",
   "metadata": {},
   "outputs": [],
   "source": []
  }
 ],
 "metadata": {
  "kernelspec": {
   "display_name": "Python 3 (ipykernel)",
   "language": "python",
   "name": "python3"
  },
  "language_info": {
   "codemirror_mode": {
    "name": "ipython",
    "version": 3
   },
   "file_extension": ".py",
   "mimetype": "text/x-python",
   "name": "python",
   "nbconvert_exporter": "python",
   "pygments_lexer": "ipython3",
   "version": "3.12.4"
  }
 },
 "nbformat": 4,
 "nbformat_minor": 5
}
