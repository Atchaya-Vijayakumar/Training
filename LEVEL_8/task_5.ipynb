{
 "cells": [
  {
   "cell_type": "code",
   "execution_count": 1,
   "id": "0040c868-7c5d-4f4b-9462-0f7e021dc730",
   "metadata": {},
   "outputs": [],
   "source": [
    "from scipy import stats"
   ]
  },
  {
   "cell_type": "code",
   "execution_count": 2,
   "id": "aca3c934-6877-4b28-a8f6-6e145f67ea54",
   "metadata": {},
   "outputs": [],
   "source": [
    "height=[160, 170, 180, 175] \n",
    "weight =[60, 70, 75, 65] "
   ]
  },
  {
   "cell_type": "code",
   "execution_count": 3,
   "id": "f1a445e7-1cbf-4927-9af7-752ebcbb6ad1",
   "metadata": {},
   "outputs": [],
   "source": [
    "pearson_corr, _ = stats.pearsonr(height, weight)\n",
    "spearman_corr, _ = stats.spearmanr(height, weight)\n"
   ]
  },
  {
   "cell_type": "code",
   "execution_count": 4,
   "id": "ec2cca5b-ebf2-4bda-9900-152992afc37d",
   "metadata": {},
   "outputs": [
    {
     "name": "stdout",
     "output_type": "stream",
     "text": [
      "Pearson Correlation: 0.83\n",
      "Spearman Correlation: 0.80\n"
     ]
    }
   ],
   "source": [
    "print(f\"Pearson Correlation: {pearson_corr:.2f}\")\n",
    "print(f\"Spearman Correlation: {spearman_corr:.2f}\")"
   ]
  },
  {
   "cell_type": "code",
   "execution_count": 5,
   "id": "387e76ab-d1da-42b1-9560-c84baf9f857d",
   "metadata": {},
   "outputs": [
    {
     "name": "stdout",
     "output_type": "stream",
     "text": [
      "Both show positive correlation; Pearson is higher due to a near-linear relationship.\n"
     ]
    }
   ],
   "source": [
    "if pearson_corr > spearman_corr:\n",
    "    print(\"Both show positive correlation; Pearson is higher due to a near-linear relationship.\")\n",
    "else:\n",
    "    print(\"Both show positive correlation; Spearman might be capturing a monotonic relationship.\")\n"
   ]
  },
  {
   "cell_type": "code",
   "execution_count": null,
   "id": "7cb1442b-57ee-4421-a9b8-5262812aba0f",
   "metadata": {},
   "outputs": [],
   "source": []
  }
 ],
 "metadata": {
  "kernelspec": {
   "display_name": "Python 3 (ipykernel)",
   "language": "python",
   "name": "python3"
  },
  "language_info": {
   "codemirror_mode": {
    "name": "ipython",
    "version": 3
   },
   "file_extension": ".py",
   "mimetype": "text/x-python",
   "name": "python",
   "nbconvert_exporter": "python",
   "pygments_lexer": "ipython3",
   "version": "3.12.4"
  }
 },
 "nbformat": 4,
 "nbformat_minor": 5
}
