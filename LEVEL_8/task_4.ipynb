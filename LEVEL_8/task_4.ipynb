{
 "cells": [
  {
   "cell_type": "code",
   "execution_count": 1,
   "id": "8570628d-c19f-4c8d-af67-dbd6075eb5dc",
   "metadata": {},
   "outputs": [
    {
     "name": "stdout",
     "output_type": "stream",
     "text": [
      "Pearson Correlation: 0.83\n",
      "Spearman Correlation: 0.80\n",
      "Both show positive correlation; Pearson is higher due to a near-linear relationship.\n"
     ]
    }
   ],
   "source": [
    "from scipy import stats\n",
    "height = [160, 170, 180, 175]\n",
    "weight = [60, 70, 75, 65]\n",
    "pearson_corr, _ = stats.pearsonr(height, weight)\n",
    "spearman_corr, _ = stats.spearmanr(height, weight)\n",
    "print(f\"Pearson Correlation: {pearson_corr:.2f}\")\n",
    "print(f\"Spearman Correlation: {spearman_corr:.2f}\")\n",
    "if pearson_corr > spearman_corr:\n",
    "    print(\"Both show positive correlation; Pearson is higher due to a near-linear relationship.\")\n",
    "else:\n",
    "    print(\"Both show positive correlation; Spearman might be capturing a monotonic relationship.\")"
   ]
  },
  {
   "cell_type": "code",
   "execution_count": null,
   "id": "8f675e19-b482-4f65-8ac7-b5626dd0c7c6",
   "metadata": {},
   "outputs": [],
   "source": []
  }
 ],
 "metadata": {
  "kernelspec": {
   "display_name": "Python 3 (ipykernel)",
   "language": "python",
   "name": "python3"
  },
  "language_info": {
   "codemirror_mode": {
    "name": "ipython",
    "version": 3
   },
   "file_extension": ".py",
   "mimetype": "text/x-python",
   "name": "python",
   "nbconvert_exporter": "python",
   "pygments_lexer": "ipython3",
   "version": "3.12.4"
  }
 },
 "nbformat": 4,
 "nbformat_minor": 5
}
