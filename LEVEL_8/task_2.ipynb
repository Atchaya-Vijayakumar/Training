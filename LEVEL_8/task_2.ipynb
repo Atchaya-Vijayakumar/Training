{
 "cells": [
  {
   "cell_type": "code",
   "execution_count": 1,
   "id": "b55679ac-98cc-4282-9e3c-96d2cc0cc1e1",
   "metadata": {},
   "outputs": [
    {
     "name": "stdout",
     "output_type": "stream",
     "text": [
      "t_score:10.10\n",
      "P-value: 0.0000\n",
      "Reject H₀; medication increases IQ (mean = 140 > 100).\n"
     ]
    }
   ],
   "source": [
    "import numpy as np\n",
    "import scipy.stats as stats\n",
    "data=np.random.normal(140,20,30)\n",
    "t_score,p_value=stats.ttest_1samp(data,popmean=100)\n",
    "alpha=0.05\n",
    "if p_value<alpha:\n",
    "    result=\"Reject H₀; medication increases IQ (mean = 140 > 100).\"\n",
    "else:\n",
    "    result=\"fail to reject Ho;no evidence that medication affects IQ.\"\n",
    "print(f\"t_score:{t_score:.2f}\")\n",
    "print(f\"P-value: {p_value:.4f}\")\n",
    "print(result)"
   ]
  },
  {
   "cell_type": "code",
   "execution_count": null,
   "id": "33200197-287d-4aa4-acc9-81fce7a7762e",
   "metadata": {},
   "outputs": [],
   "source": []
  }
 ],
 "metadata": {
  "kernelspec": {
   "display_name": "Python 3 (ipykernel)",
   "language": "python",
   "name": "python3"
  },
  "language_info": {
   "codemirror_mode": {
    "name": "ipython",
    "version": 3
   },
   "file_extension": ".py",
   "mimetype": "text/x-python",
   "name": "python",
   "nbconvert_exporter": "python",
   "pygments_lexer": "ipython3",
   "version": "3.12.4"
  }
 },
 "nbformat": 4,
 "nbformat_minor": 5
}
